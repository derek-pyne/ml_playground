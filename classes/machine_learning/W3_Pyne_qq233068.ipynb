{
 "cells": [
  {
   "cell_type": "markdown",
   "metadata": {},
   "source": [
    "### Your name:\n",
    "\n",
    "<pre> Derek Pyne </pre>\n",
    "\n",
    "### Collaborators:\n",
    "\n",
    "<pre> None </pre>\n"
   ]
  },
  {
   "cell_type": "code",
   "execution_count": 1,
   "metadata": {
    "collapsed": false
   },
   "outputs": [],
   "source": [
    "import numpy as np\n",
    "import pandas as pd\n",
    "\n",
    "# to make this notebook's output stable across runs\n",
    "np.random.seed(123)\n",
    "\n",
    "# To plot pretty figures\n",
    "%matplotlib inline\n",
    "import matplotlib\n",
    "import matplotlib.pyplot as plt\n",
    "import seaborn as sns\n",
    "sns.set_style('ticks')\n",
    "plt.rcParams['axes.labelsize'] = 14\n",
    "plt.rcParams['xtick.labelsize'] = 12\n",
    "plt.rcParams['ytick.labelsize'] = 12\n",
    "plt.rcParams['figure.figsize'] = (15, 10)"
   ]
  },
  {
   "cell_type": "markdown",
   "metadata": {},
   "source": [
    "### Classification"
   ]
  },
  {
   "cell_type": "markdown",
   "metadata": {},
   "source": [
    "Q1. Build a classification model for the default of credit card clients dataset. More info here:\n",
    "https://archive.ics.uci.edu/ml/datasets/default+of+credit+card+clients\n",
    "\n",
    "- Explore the data\n",
    "- Make sure you build a full data pipeline\n",
    "- Do you require any data pre-processing? Are all the features useful? (Use only raw features)\n",
    "- set the random seed to 123 (For splitting or any other random algorithm)\n",
    "- Split data into training (80%) and testing (20%)\n",
    "- Follow similar procedure as the one for week 2 (End-to-end Machine Learning Project). Remember apendix B\n",
    "- Study the ROC Curve, decide threshold\n",
    "- Use 2 classifiers.\n",
    "    - Random Forest\n",
    "        - tune only: n_estimators: {3, 4, 6, 7, 10, 20, 50, 100} \n",
    "    - KNN Classfier \n",
    "        - tune only: n_neighbors: {3, 4, 5, 7, 10, 20, 50} \n",
    "    - Which one performs better in the cross validation?\n",
    "    \n",
    "http://scikit-learn.org/stable/modules/generated/sklearn.ensemble.RandomForestClassifier.html\n",
    "\n",
    "http://scikit-learn.org/stable/modules/generated/sklearn.neighbors.KNeighborsClassifier.html\n",
    "\n",
    "- Cross-validation with 4-folds.\n",
    "\n",
    "- Other paramenters -> Use default\n",
    "\n",
    "Notes:\n",
    "  - Make your code modular, the second part of the assignmet you will have to repeat. \n",
    "  - Include documentation for your code "
   ]
  },
  {
   "cell_type": "markdown",
   "metadata": {},
   "source": [
    "## Obtain"
   ]
  },
  {
   "cell_type": "markdown",
   "metadata": {},
   "source": [
    "First we'll read in the data and split it into a dataframe for our features and a series for our labels. We'll also keep a set for final validation."
   ]
  },
  {
   "cell_type": "code",
   "execution_count": 3,
   "metadata": {
    "collapsed": false
   },
   "outputs": [],
   "source": [
    "df = pd.read_excel(\"datasets/credit/default_of_credit_card_clients.xls\", \n",
    "                   sheet = 0, skiprows= 1, header = 0)\n",
    "df.drop('ID', axis=1, inplace=True)"
   ]
  },
  {
   "cell_type": "code",
   "execution_count": 4,
   "metadata": {
    "collapsed": true
   },
   "outputs": [],
   "source": [
    "from sklearn.model_selection import train_test_split\n",
    "\n",
    "df_labels = df['default payment next month'].copy()\n",
    "df.drop('default payment next month', axis=1, inplace=True)\n",
    "\n",
    "X_train, X_test, y_train, y_test = train_test_split(df, df_labels, \n",
    "                                    test_size=0.2, random_state=123)"
   ]
  },
  {
   "cell_type": "markdown",
   "metadata": {},
   "source": [
    "## Explore\n",
    "\n",
    "First we'll look at a couple of points and check for null values. In our cases there are no missing values so we can leave this step out of our pipeline."
   ]
  },
  {
   "cell_type": "code",
   "execution_count": 5,
   "metadata": {
    "collapsed": false
   },
   "outputs": [
    {
     "data": {
      "text/html": [
       "<div>\n",
       "<style>\n",
       "    .dataframe thead tr:only-child th {\n",
       "        text-align: right;\n",
       "    }\n",
       "\n",
       "    .dataframe thead th {\n",
       "        text-align: left;\n",
       "    }\n",
       "\n",
       "    .dataframe tbody tr th {\n",
       "        vertical-align: top;\n",
       "    }\n",
       "</style>\n",
       "<table border=\"1\" class=\"dataframe\">\n",
       "  <thead>\n",
       "    <tr style=\"text-align: right;\">\n",
       "      <th></th>\n",
       "      <th>19682</th>\n",
       "      <th>11062</th>\n",
       "      <th>197</th>\n",
       "      <th>23620</th>\n",
       "      <th>26031</th>\n",
       "    </tr>\n",
       "  </thead>\n",
       "  <tbody>\n",
       "    <tr>\n",
       "      <th>LIMIT_BAL</th>\n",
       "      <td>200000</td>\n",
       "      <td>120000</td>\n",
       "      <td>20000</td>\n",
       "      <td>100000</td>\n",
       "      <td>290000</td>\n",
       "    </tr>\n",
       "    <tr>\n",
       "      <th>SEX</th>\n",
       "      <td>2</td>\n",
       "      <td>2</td>\n",
       "      <td>2</td>\n",
       "      <td>2</td>\n",
       "      <td>2</td>\n",
       "    </tr>\n",
       "    <tr>\n",
       "      <th>EDUCATION</th>\n",
       "      <td>2</td>\n",
       "      <td>1</td>\n",
       "      <td>1</td>\n",
       "      <td>5</td>\n",
       "      <td>2</td>\n",
       "    </tr>\n",
       "    <tr>\n",
       "      <th>MARRIAGE</th>\n",
       "      <td>1</td>\n",
       "      <td>1</td>\n",
       "      <td>2</td>\n",
       "      <td>2</td>\n",
       "      <td>2</td>\n",
       "    </tr>\n",
       "    <tr>\n",
       "      <th>AGE</th>\n",
       "      <td>46</td>\n",
       "      <td>32</td>\n",
       "      <td>22</td>\n",
       "      <td>34</td>\n",
       "      <td>29</td>\n",
       "    </tr>\n",
       "    <tr>\n",
       "      <th>PAY_0</th>\n",
       "      <td>0</td>\n",
       "      <td>-1</td>\n",
       "      <td>0</td>\n",
       "      <td>0</td>\n",
       "      <td>0</td>\n",
       "    </tr>\n",
       "    <tr>\n",
       "      <th>PAY_2</th>\n",
       "      <td>0</td>\n",
       "      <td>-1</td>\n",
       "      <td>0</td>\n",
       "      <td>0</td>\n",
       "      <td>0</td>\n",
       "    </tr>\n",
       "    <tr>\n",
       "      <th>PAY_3</th>\n",
       "      <td>0</td>\n",
       "      <td>-1</td>\n",
       "      <td>0</td>\n",
       "      <td>0</td>\n",
       "      <td>0</td>\n",
       "    </tr>\n",
       "    <tr>\n",
       "      <th>PAY_4</th>\n",
       "      <td>0</td>\n",
       "      <td>-1</td>\n",
       "      <td>0</td>\n",
       "      <td>0</td>\n",
       "      <td>0</td>\n",
       "    </tr>\n",
       "    <tr>\n",
       "      <th>PAY_5</th>\n",
       "      <td>0</td>\n",
       "      <td>-1</td>\n",
       "      <td>-1</td>\n",
       "      <td>0</td>\n",
       "      <td>0</td>\n",
       "    </tr>\n",
       "    <tr>\n",
       "      <th>PAY_6</th>\n",
       "      <td>0</td>\n",
       "      <td>2</td>\n",
       "      <td>0</td>\n",
       "      <td>-1</td>\n",
       "      <td>0</td>\n",
       "    </tr>\n",
       "    <tr>\n",
       "      <th>BILL_AMT1</th>\n",
       "      <td>106651</td>\n",
       "      <td>3556</td>\n",
       "      <td>18553</td>\n",
       "      <td>91674</td>\n",
       "      <td>7324</td>\n",
       "    </tr>\n",
       "    <tr>\n",
       "      <th>BILL_AMT2</th>\n",
       "      <td>103173</td>\n",
       "      <td>326</td>\n",
       "      <td>19446</td>\n",
       "      <td>91348</td>\n",
       "      <td>8174</td>\n",
       "    </tr>\n",
       "    <tr>\n",
       "      <th>BILL_AMT3</th>\n",
       "      <td>104137</td>\n",
       "      <td>326</td>\n",
       "      <td>19065</td>\n",
       "      <td>87244</td>\n",
       "      <td>8389</td>\n",
       "    </tr>\n",
       "    <tr>\n",
       "      <th>BILL_AMT4</th>\n",
       "      <td>103422</td>\n",
       "      <td>476</td>\n",
       "      <td>8332</td>\n",
       "      <td>23181</td>\n",
       "      <td>8770</td>\n",
       "    </tr>\n",
       "    <tr>\n",
       "      <th>BILL_AMT5</th>\n",
       "      <td>95206</td>\n",
       "      <td>802</td>\n",
       "      <td>18868</td>\n",
       "      <td>7721</td>\n",
       "      <td>9145</td>\n",
       "    </tr>\n",
       "    <tr>\n",
       "      <th>BILL_AMT6</th>\n",
       "      <td>65108</td>\n",
       "      <td>326</td>\n",
       "      <td>19247</td>\n",
       "      <td>3219</td>\n",
       "      <td>10016</td>\n",
       "    </tr>\n",
       "    <tr>\n",
       "      <th>PAY_AMT1</th>\n",
       "      <td>3692</td>\n",
       "      <td>652</td>\n",
       "      <td>1500</td>\n",
       "      <td>5004</td>\n",
       "      <td>1130</td>\n",
       "    </tr>\n",
       "    <tr>\n",
       "      <th>PAY_AMT2</th>\n",
       "      <td>5000</td>\n",
       "      <td>326</td>\n",
       "      <td>1032</td>\n",
       "      <td>3811</td>\n",
       "      <td>1502</td>\n",
       "    </tr>\n",
       "    <tr>\n",
       "      <th>PAY_AMT3</th>\n",
       "      <td>3300</td>\n",
       "      <td>476</td>\n",
       "      <td>541</td>\n",
       "      <td>3002</td>\n",
       "      <td>1300</td>\n",
       "    </tr>\n",
       "    <tr>\n",
       "      <th>PAY_AMT4</th>\n",
       "      <td>2500</td>\n",
       "      <td>802</td>\n",
       "      <td>20000</td>\n",
       "      <td>4000</td>\n",
       "      <td>500</td>\n",
       "    </tr>\n",
       "    <tr>\n",
       "      <th>PAY_AMT5</th>\n",
       "      <td>2930</td>\n",
       "      <td>0</td>\n",
       "      <td>693</td>\n",
       "      <td>3219</td>\n",
       "      <td>1000</td>\n",
       "    </tr>\n",
       "    <tr>\n",
       "      <th>PAY_AMT6</th>\n",
       "      <td>1500</td>\n",
       "      <td>326</td>\n",
       "      <td>1000</td>\n",
       "      <td>1864</td>\n",
       "      <td>1001</td>\n",
       "    </tr>\n",
       "  </tbody>\n",
       "</table>\n",
       "</div>"
      ],
      "text/plain": [
       "            19682   11062  197     23620   26031\n",
       "LIMIT_BAL  200000  120000  20000  100000  290000\n",
       "SEX             2       2      2       2       2\n",
       "EDUCATION       2       1      1       5       2\n",
       "MARRIAGE        1       1      2       2       2\n",
       "AGE            46      32     22      34      29\n",
       "PAY_0           0      -1      0       0       0\n",
       "PAY_2           0      -1      0       0       0\n",
       "PAY_3           0      -1      0       0       0\n",
       "PAY_4           0      -1      0       0       0\n",
       "PAY_5           0      -1     -1       0       0\n",
       "PAY_6           0       2      0      -1       0\n",
       "BILL_AMT1  106651    3556  18553   91674    7324\n",
       "BILL_AMT2  103173     326  19446   91348    8174\n",
       "BILL_AMT3  104137     326  19065   87244    8389\n",
       "BILL_AMT4  103422     476   8332   23181    8770\n",
       "BILL_AMT5   95206     802  18868    7721    9145\n",
       "BILL_AMT6   65108     326  19247    3219   10016\n",
       "PAY_AMT1     3692     652   1500    5004    1130\n",
       "PAY_AMT2     5000     326   1032    3811    1502\n",
       "PAY_AMT3     3300     476    541    3002    1300\n",
       "PAY_AMT4     2500     802  20000    4000     500\n",
       "PAY_AMT5     2930       0    693    3219    1000\n",
       "PAY_AMT6     1500     326   1000    1864    1001"
      ]
     },
     "execution_count": 5,
     "metadata": {},
     "output_type": "execute_result"
    }
   ],
   "source": [
    "X_train.head().T"
   ]
  },
  {
   "cell_type": "code",
   "execution_count": 6,
   "metadata": {
    "collapsed": false
   },
   "outputs": [
    {
     "name": "stdout",
     "output_type": "stream",
     "text": [
      "<class 'pandas.core.frame.DataFrame'>\n",
      "Int64Index: 24000 entries, 19682 to 19966\n",
      "Data columns (total 23 columns):\n",
      "LIMIT_BAL    24000 non-null int64\n",
      "SEX          24000 non-null int64\n",
      "EDUCATION    24000 non-null int64\n",
      "MARRIAGE     24000 non-null int64\n",
      "AGE          24000 non-null int64\n",
      "PAY_0        24000 non-null int64\n",
      "PAY_2        24000 non-null int64\n",
      "PAY_3        24000 non-null int64\n",
      "PAY_4        24000 non-null int64\n",
      "PAY_5        24000 non-null int64\n",
      "PAY_6        24000 non-null int64\n",
      "BILL_AMT1    24000 non-null int64\n",
      "BILL_AMT2    24000 non-null int64\n",
      "BILL_AMT3    24000 non-null int64\n",
      "BILL_AMT4    24000 non-null int64\n",
      "BILL_AMT5    24000 non-null int64\n",
      "BILL_AMT6    24000 non-null int64\n",
      "PAY_AMT1     24000 non-null int64\n",
      "PAY_AMT2     24000 non-null int64\n",
      "PAY_AMT3     24000 non-null int64\n",
      "PAY_AMT4     24000 non-null int64\n",
      "PAY_AMT5     24000 non-null int64\n",
      "PAY_AMT6     24000 non-null int64\n",
      "dtypes: int64(23)\n",
      "memory usage: 4.4 MB\n"
     ]
    }
   ],
   "source": [
    "X_train.info()"
   ]
  },
  {
   "cell_type": "markdown",
   "metadata": {},
   "source": [
    "We can also look at the distribution of each feature for hints on how to process them."
   ]
  },
  {
   "cell_type": "code",
   "execution_count": 7,
   "metadata": {
    "collapsed": false
   },
   "outputs": [
    {
     "data": {
      "image/png": "[encoded data removed]",
      "text/plain": [
       "<matplotlib.figure.Figure at 0x111091160>"
      ]
     },
     "metadata": {},
     "output_type": "display_data"
    }
   ],
   "source": [
    "X_train.hist(bins=50)\n",
    "plt.show()"
   ]
  },
  {
   "cell_type": "markdown",
   "metadata": {},
   "source": [
    "Although all the data is in numerical form, some of these features are actually categorical. \n",
    "\n",
    "These features are categorical:\n",
    "- Education\n",
    "- Marriage\n",
    "- Sex\n",
    "\n",
    "Also, variables `PAY_0` to `PAY_6` are the repayment status over the past 6 months. These variables have a strange form in that `-1` means payment in full, while any other positive number denotes the number of months the payment was delayed. We will have to think if these variables are useful or need reshaping."
   ]
  },
  {
   "cell_type": "markdown",
   "metadata": {},
   "source": [
    "## Extract\n",
    "\n",
    "We can now build out a pipeline by one-hot encoding our categorical features and scaling our numerical features."
   ]
  },
  {
   "cell_type": "code",
   "execution_count": 8,
   "metadata": {
    "collapsed": true
   },
   "outputs": [],
   "source": [
    "from sklearn.base import BaseEstimator, TransformerMixin\n",
    "\n",
    "class DataFrameSelector(BaseEstimator, TransformerMixin):\n",
    "    def __init__(self, attribute_names):\n",
    "        self.attribute_names = attribute_names\n",
    "    def fit(self, X, y=None):\n",
    "        return self\n",
    "    def transform(self, X):\n",
    "        return X[self.attribute_names].values"
   ]
  },
  {
   "cell_type": "code",
   "execution_count": 10,
   "metadata": {
    "collapsed": false
   },
   "outputs": [],
   "source": [
    "from sklearn.pipeline import Pipeline\n",
    "from sklearn.preprocessing import StandardScaler\n",
    "from sklearn.preprocessing import OneHotEncoder\n",
    "\n",
    "# exclusion_attribs = ['PAY_0', 'PAY_1', 'PAY_2', 'PAY_3', \n",
    "#                      'PAY_4', 'PAY_5', 'PAY_6']\n",
    "exclusion_attribs = []\n",
    "cat_attribs = ['EDUCATION', 'MARRIAGE', 'SEX']\n",
    "num_attribs = [c for c in df.columns \n",
    "               if c not in cat_attribs and c not in exclusion_attribs]\n",
    "\n",
    "num_pipeline = Pipeline([\n",
    "        ('selector', DataFrameSelector(num_attribs)),\n",
    "        ('std_scaler', StandardScaler()),\n",
    "    ])\n",
    "\n",
    "cat_pipeline = Pipeline([\n",
    "        ('selector', DataFrameSelector(cat_attribs)),\n",
    "        ('cat_encoder', OneHotEncoder())\n",
    "    ])"
   ]
  },
  {
   "cell_type": "code",
   "execution_count": 11,
   "metadata": {
    "collapsed": false
   },
   "outputs": [
    {
     "name": "stderr",
     "output_type": "stream",
     "text": [
      "/Users/helpfulmacpro2/anaconda3/envs/helpful-analytics/lib/python3.6/site-packages/sklearn/utils/validation.py:475: DataConversionWarning: Data with input dtype int64 was converted to float64 by StandardScaler.\n",
      "  warnings.warn(msg, DataConversionWarning)\n"
     ]
    }
   ],
   "source": [
    "from sklearn.pipeline import FeatureUnion\n",
    "\n",
    "full_pipeline = FeatureUnion(transformer_list=[\n",
    "        (\"num_pipeline\", num_pipeline),\n",
    "        (\"cat_pipeline\", cat_pipeline),\n",
    "    ])\n",
    "X_train_prepared = full_pipeline.fit_transform(X_train)"
   ]
  },
  {
   "cell_type": "markdown",
   "metadata": {},
   "source": [
    "## Model"
   ]
  },
  {
   "cell_type": "code",
   "execution_count": 12,
   "metadata": {
    "collapsed": false
   },
   "outputs": [
    {
     "data": {
      "text/plain": [
       "GridSearchCV(cv=4, error_score='raise',\n",
       "       estimator=RandomForestClassifier(bootstrap=True, class_weight=None, criterion='gini',\n",
       "            max_depth=None, max_features='auto', max_leaf_nodes=None,\n",
       "            min_impurity_decrease=0.0, min_impurity_split=None,\n",
       "            min_samples_leaf=1, min_samples_split=2,\n",
       "            min_weight_fraction_leaf=0.0, n_estimators=10, n_jobs=1,\n",
       "            oob_score=False, random_state=123, verbose=0, warm_start=False),\n",
       "       fit_params=None, iid=True, n_jobs=1,\n",
       "       param_grid={'n_estimators': [3, 4, 6, 7, 10, 20, 50, 100]},\n",
       "       pre_dispatch='2*n_jobs', refit=True, return_train_score='warn',\n",
       "       scoring='accuracy', verbose=0)"
      ]
     },
     "execution_count": 12,
     "metadata": {},
     "output_type": "execute_result"
    }
   ],
   "source": [
    "from sklearn.model_selection import GridSearchCV\n",
    "from sklearn.ensemble import RandomForestClassifier\n",
    "\n",
    "rf = RandomForestClassifier(random_state=123)\n",
    "param_grid = {'n_estimators' : [3, 4, 6, 7, 10, 20, 50, 100]}\n",
    "grid_search_rfc = GridSearchCV(rf, param_grid, cv=4, scoring='accuracy')\n",
    "grid_search_rfc.fit(X_train_prepared, y_train)"
   ]
  },
  {
   "cell_type": "code",
   "execution_count": 13,
   "metadata": {
    "collapsed": false
   },
   "outputs": [
    {
     "name": "stdout",
     "output_type": "stream",
     "text": [
      "Params: {'n_estimators': 3}, Accuracy: 0.767\n",
      "Params: {'n_estimators': 4}, Accuracy: 0.790\n",
      "Params: {'n_estimators': 6}, Accuracy: 0.797\n",
      "Params: {'n_estimators': 7}, Accuracy: 0.796\n",
      "Params: {'n_estimators': 10}, Accuracy: 0.805\n",
      "Params: {'n_estimators': 20}, Accuracy: 0.810\n",
      "Params: {'n_estimators': 50}, Accuracy: 0.814\n",
      "Params: {'n_estimators': 100}, Accuracy: 0.815\n"
     ]
    }
   ],
   "source": [
    "cvres = grid_search_rfc.cv_results_\n",
    "for mean_score, params in zip(cvres[\"mean_test_score\"], cvres[\"params\"]):\n",
    "    print('Params: %s, Accuracy: %.3f' % (params, mean_score))"
   ]
  },
  {
   "cell_type": "code",
   "execution_count": 15,
   "metadata": {
    "collapsed": false
   },
   "outputs": [
    {
     "data": {
      "text/plain": [
       "GridSearchCV(cv=4, error_score='raise',\n",
       "       estimator=KNeighborsClassifier(algorithm='auto', leaf_size=30, metric='minkowski',\n",
       "           metric_params=None, n_jobs=1, n_neighbors=5, p=2,\n",
       "           weights='uniform'),\n",
       "       fit_params=None, iid=True, n_jobs=1,\n",
       "       param_grid={'n_neighbors': [3, 4, 5, 7, 10, 20, 50]},\n",
       "       pre_dispatch='2*n_jobs', refit=True, return_train_score='warn',\n",
       "       scoring='accuracy', verbose=0)"
      ]
     },
     "execution_count": 15,
     "metadata": {},
     "output_type": "execute_result"
    }
   ],
   "source": [
    "from sklearn.neighbors import KNeighborsClassifier\n",
    "knn = KNeighborsClassifier()\n",
    "param_grid = {'n_neighbors': [3, 4, 5, 7, 10, 20, 50]}\n",
    "grid_search_knn = GridSearchCV(knn, param_grid, cv=4, scoring='accuracy')\n",
    "grid_search_knn.fit(X_train_prepared, y_train)"
   ]
  },
  {
   "cell_type": "code",
   "execution_count": 16,
   "metadata": {
    "collapsed": false
   },
   "outputs": [
    {
     "name": "stdout",
     "output_type": "stream",
     "text": [
      "Params: {'n_neighbors': 3}, Accuracy: 0.774\n",
      "Params: {'n_neighbors': 4}, Accuracy: 0.797\n",
      "Params: {'n_neighbors': 5}, Accuracy: 0.792\n",
      "Params: {'n_neighbors': 7}, Accuracy: 0.800\n",
      "Params: {'n_neighbors': 10}, Accuracy: 0.806\n",
      "Params: {'n_neighbors': 20}, Accuracy: 0.811\n",
      "Params: {'n_neighbors': 50}, Accuracy: 0.810\n"
     ]
    }
   ],
   "source": [
    "cvres = grid_search_knn.cv_results_\n",
    "for mean_score, params in zip(cvres[\"mean_test_score\"], cvres[\"params\"]):\n",
    "    print('Params: %s, Accuracy: %.3f' % (params, mean_score))"
   ]
  },
  {
   "cell_type": "markdown",
   "metadata": {},
   "source": [
    "## Interpret\n",
    "\n",
    "We will now take our top model with the Random Forest Classifier and evaluate it on our test set."
   ]
  },
  {
   "cell_type": "code",
   "execution_count": 17,
   "metadata": {
    "collapsed": false
   },
   "outputs": [
    {
     "name": "stderr",
     "output_type": "stream",
     "text": [
      "/Users/helpfulmacpro2/anaconda3/envs/helpful-analytics/lib/python3.6/site-packages/sklearn/utils/validation.py:475: DataConversionWarning: Data with input dtype int64 was converted to float64 by StandardScaler.\n",
      "  warnings.warn(msg, DataConversionWarning)\n"
     ]
    }
   ],
   "source": [
    "X_test_prepared = full_pipeline.transform(X_test)\n",
    "y_test_prob = grid_search_rfc.predict_proba(X_test_prepared)[:,1]"
   ]
  },
  {
   "cell_type": "code",
   "execution_count": 18,
   "metadata": {
    "collapsed": false
   },
   "outputs": [],
   "source": [
    "from sklearn import metrics\n",
    "fpr, tpr, thresholds = metrics.roc_curve(y_test.values, y_test_prob, \n",
    "                                         pos_label=1)"
   ]
  },
  {
   "cell_type": "code",
   "execution_count": 19,
   "metadata": {
    "collapsed": false
   },
   "outputs": [
    {
     "data": {
      "text/plain": [
       "<matplotlib.legend.Legend at 0x112984710>"
      ]
     },
     "execution_count": 19,
     "metadata": {},
     "output_type": "execute_result"
    },
    {
     "data": {
      "image/png": "[encoded data removed]",
      "text/plain": [
       "<matplotlib.figure.Figure at 0x1121129e8>"
      ]
     },
     "metadata": {},
     "output_type": "display_data"
    }
   ],
   "source": [
    "roc_auc = metrics.auc(fpr, tpr)\n",
    "lw = 2\n",
    "plt.plot(fpr, tpr, color='darkorange',\n",
    "         lw=lw, label='ROC curve (area = %0.2f)' % roc_auc)\n",
    "plt.plot([0, 1], [0, 1], color='navy', lw=lw, linestyle='--')\n",
    "plt.xlim([0.0, 1.0])\n",
    "plt.ylim([0.0, 1.05])\n",
    "plt.xlabel('False Positive Rate')\n",
    "plt.ylabel('True Positive Rate')\n",
    "plt.title('Receiver operating characteristic example')\n",
    "plt.legend(loc=\"lower right\")"
   ]
  },
  {
   "cell_type": "markdown",
   "metadata": {},
   "source": [
    "We choose a threshold based on a true positive rate of 0.6."
   ]
  },
  {
   "cell_type": "code",
   "execution_count": 20,
   "metadata": {
    "collapsed": false
   },
   "outputs": [
    {
     "data": {
      "text/plain": [
       "0.28000000000000003"
      ]
     },
     "execution_count": 20,
     "metadata": {},
     "output_type": "execute_result"
    }
   ],
   "source": [
    "thresholds[np.argmax(tpr > .6)]"
   ]
  },
  {
   "cell_type": "markdown",
   "metadata": {},
   "source": [
    "#### Conclusions?"
   ]
  },
  {
   "cell_type": "markdown",
   "metadata": {},
   "source": [
    "Explain your results and choices"
   ]
  },
  {
   "cell_type": "markdown",
   "metadata": {
    "collapsed": true
   },
   "source": [
    "- Choosing between 4 and 5 fold cross validation had no affect on accuracy but a significant affect on compute time so 4 fold validation was used. This is likely because the dataset is large enough that for our particular models they are able to extract all the variance in the dataset that they can use with 75% of the training set as compared to 80%. In general, if the dataset was smaller (compared to the variance in the data) or we choose a model with higher capability this might not be the case.\n",
    "- Some of the repayment variables seemed a little strange so an attempt was made to remove them. The variables `PAY_0` through `PAY_6` were removed but this led to a 3% decrease in accuracy so they were left in the dataset.\n",
    "- The business needs are needed to properly choose a threshold. The tradeoff here, for the case of credit default, is lost investment if the customer defaults on their payment and the model was not able to flag them, and a poor customer experience if the model falsely flags the customer. We will choose a value in the middle here of 0.28 which is based on a true positive rate of 0.6."
   ]
  },
  {
   "cell_type": "markdown",
   "metadata": {},
   "source": [
    "Q2. (Optional) Write a function that can shift an MNIST image in any direction (left, right, up, or down) by one pixel. Then, for each image in the training set, create four shifted copies (one per direction) and add them to the training set. Finally, train your best model on this expanded training set and measure its accuracy on the test set. You should observe that your model performs even better now! This technique of artificially growing the training set is called data augmentation or training set expansion. "
   ]
  },
  {
   "cell_type": "markdown",
   "metadata": {},
   "source": [
    "To test this out we will use an example for SK-Learn for digit recognition and add our image shifter to the dataset.\n",
    "\n",
    "We will wrap the example in a function to make it easier to work with."
   ]
  },
  {
   "cell_type": "code",
   "execution_count": 41,
   "metadata": {
    "collapsed": true
   },
   "outputs": [],
   "source": [
    "# Import datasets, classifiers and performance metrics\n",
    "from sklearn import datasets, svm, metrics\n",
    "\n",
    "# The digits dataset\n",
    "digits = datasets.load_digits()\n",
    "\n",
    "X = digits.images\n",
    "y = digits.target"
   ]
  },
  {
   "cell_type": "code",
   "execution_count": 44,
   "metadata": {
    "collapsed": true
   },
   "outputs": [],
   "source": [
    "# mnist data is taking two long to train so going to use the toy digits dataset for now\n",
    "\n",
    "# mnist = datasets.fetch_mldata('MNIST original')\n",
    "# X = mnist['data']\n",
    "# y = mnist['target']\n",
    "# np.random.shuffle(X)\n",
    "# np.random.shuffle(y)\n",
    "# X = X[:3000, :]\n",
    "# y = y[:3000]"
   ]
  },
  {
   "cell_type": "code",
   "execution_count": 45,
   "metadata": {
    "collapsed": false,
    "scrolled": false
   },
   "outputs": [],
   "source": [
    "def digit_recognition(X, y):\n",
    "    # Author: Gael Varoquaux <gael dot varoquaux at normalesup dot org>\n",
    "    # License: BSD 3 clause\n",
    "    \n",
    "    # To apply a classifier on this data, we need to flatten the image, to\n",
    "    # turn the data in a (samples, feature) matrix:\n",
    "    n_samples = len(X)\n",
    "    \n",
    "    X_copy = X.copy()\n",
    "    X_copy = X_copy.reshape((n_samples, -1))\n",
    "\n",
    "    # Create a classifier: a support vector classifier\n",
    "    classifier = svm.SVC(gamma=0.001)\n",
    "\n",
    "    # We learn the digits on the first half of the digits\n",
    "    \n",
    "    X_train, X_test, y_train, y_test = train_test_split(X_copy, y, \n",
    "                                    test_size=0.2, random_state=123)\n",
    "    classifier.fit(X_train, y_train)\n",
    "\n",
    "    # Now predict the value of the digit on the second half:\n",
    "    expected = y_test\n",
    "    predicted = classifier.predict(X_test)\n",
    "\n",
    "    print('Accuracy: %s' % metrics.accuracy_score(expected, predicted))"
   ]
  },
  {
   "cell_type": "code",
   "execution_count": 46,
   "metadata": {
    "collapsed": false
   },
   "outputs": [
    {
     "name": "stdout",
     "output_type": "stream",
     "text": [
      "Accuracy: 0.991666666667\n"
     ]
    }
   ],
   "source": [
    "digit_recognition(X, y)"
   ]
  },
  {
   "cell_type": "markdown",
   "metadata": {},
   "source": [
    "Now we can make a function that will shift an image by a pixel in each direction."
   ]
  },
  {
   "cell_type": "code",
   "execution_count": 47,
   "metadata": {
    "collapsed": false
   },
   "outputs": [],
   "source": [
    "def shift_image(image, direction='north'):\n",
    "    shifted = np.zeros(image.shape)\n",
    "    if direction == 'north':\n",
    "        shifted[:-1, :] = image[1:, :]\n",
    "    elif direction == 'south':\n",
    "        shifted[1:, :] = image[:-1, :]\n",
    "    elif direction == 'east':\n",
    "        shifted[:, 1:] = image[:, :-1]\n",
    "    elif direction == 'west':\n",
    "        shifted[:, :-1] = image[:, 1:]\n",
    "    else:\n",
    "        print('Provided invalid direction of %s. Not shifting image.' % direction)\n",
    "        shifted = image\n",
    "    return shifted"
   ]
  },
  {
   "cell_type": "code",
   "execution_count": 49,
   "metadata": {
    "collapsed": false
   },
   "outputs": [
    {
     "data": {
      "text/plain": [
       "<matplotlib.image.AxesImage at 0x11513bd68>"
      ]
     },
     "execution_count": 49,
     "metadata": {},
     "output_type": "execute_result"
    },
    {
     "data": {
      "image/png": "[encoded data removed]",
      "text/plain": [
       "<matplotlib.figure.Figure at 0x11adf4470>"
      ]
     },
     "metadata": {},
     "output_type": "display_data"
    }
   ],
   "source": [
    "plt.figure(figsize=(5,5))\n",
    "plt.imshow(X[0], \n",
    "           cmap=plt.cm.gray_r, interpolation='nearest')"
   ]
  },
  {
   "cell_type": "code",
   "execution_count": 50,
   "metadata": {
    "collapsed": false
   },
   "outputs": [
    {
     "data": {
      "text/plain": [
       "<matplotlib.image.AxesImage at 0x11309fd68>"
      ]
     },
     "execution_count": 50,
     "metadata": {},
     "output_type": "execute_result"
    },
    {
     "data": {
      "image/png": "[encoded data removed]",
      "text/plain": [
       "<matplotlib.figure.Figure at 0x1144ae438>"
      ]
     },
     "metadata": {},
     "output_type": "display_data"
    }
   ],
   "source": [
    "plt.figure(figsize=(5,5))\n",
    "plt.imshow(shift_image(X[0], direction='west'), \n",
    "           cmap=plt.cm.gray_r, interpolation='nearest')"
   ]
  },
  {
   "cell_type": "code",
   "execution_count": 51,
   "metadata": {
    "collapsed": false
   },
   "outputs": [],
   "source": [
    "X_shifted = []\n",
    "y_shifted = []\n",
    "for X, y in zip(X, y):\n",
    "    for direction in ['north', 'south', 'west', 'east']:\n",
    "        X_shifted.append(shift_image(X, direction))\n",
    "        y_shifted.append(y)\n"
   ]
  },
  {
   "cell_type": "code",
   "execution_count": 52,
   "metadata": {
    "collapsed": false
   },
   "outputs": [
    {
     "name": "stdout",
     "output_type": "stream",
     "text": [
      "Accuracy: 0.989568845619\n"
     ]
    }
   ],
   "source": [
    "digit_recognition(X + X_shifted, y + y_shifted)"
   ]
  },
  {
   "cell_type": "markdown",
   "metadata": {},
   "source": [
    "The mnist data was taking too long to train so the toy digits sklearn dataset was used for now. With this dataset, the model without shifting was already incredibly accurate, so although shifting slightly lowered the accuracy it is hard to read into it.\n",
    "\n",
    "Also, the current setup is putting the shifted data into the test set as well. The correct setup should probably be to do cross-validation with the training set with the added shifted images and then test the quality of the model on a test set that does not have shifted images. But because of the mnist runtime on my laptop this will have to wait for now :)"
   ]
  },
  {
   "cell_type": "code",
   "execution_count": null,
   "metadata": {
    "collapsed": true
   },
   "outputs": [],
   "source": []
  }
 ],
 "metadata": {
  "anaconda-cloud": {},
  "hide_input": false,
  "kernelspec": {
   "display_name": "Python [default]",
   "language": "python",
   "name": "python3"
  },
  "language_info": {
   "codemirror_mode": {
    "name": "ipython",
    "version": 3
   },
   "file_extension": ".py",
   "mimetype": "text/x-python",
   "name": "python",
   "nbconvert_exporter": "python",
   "pygments_lexer": "ipython3",
   "version": "3.6.3"
  }
 },
 "nbformat": 4,
 "nbformat_minor": 2
}
