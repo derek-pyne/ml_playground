{
 "cells": [
  {
   "cell_type": "code",
   "execution_count": 116,
   "metadata": {},
   "outputs": [],
   "source": [
    "import numpy as np\n",
    "import seaborn as sns\n",
    "import tensorflow as tf\n",
    "import pandas as pd\n",
    "from pandas import DataFrame, Series\n",
    "import logging\n",
    "import time\n",
    "\n",
    "%matplotlib inline\n",
    "import matplotlib\n",
    "import matplotlib.pyplot as plt\n",
    "plt.rcParams['axes.labelsize'] = 14\n",
    "plt.rcParams['xtick.labelsize'] = 12\n",
    "plt.rcParams['ytick.labelsize'] = 12\n",
    "sns.set(style=\"ticks\")\n",
    "tf.logging.set_verbosity(logging.ERROR)"
   ]
  },
  {
   "cell_type": "markdown",
   "metadata": {},
   "source": [
    "## Facebook Comment Volume Predictions: Neural Networks and Decision Trees\n",
    "\n",
    "Our goal is to reproduce the work completed in the following paper:\n",
    "\n",
    "> Singh, Kamaljot, R. K. Sandhu, and Dinesh Kumar. \"Comment volume prediction using neural networks and decision trees.\" IEEE UKSim-AMSS 17th International Conference on Computer Modelling and Simulation, UKSim2015 (UKSim2015), Cambridge, United Kingdom. 2015.\n",
    "\n",
    "In this work, they scraped Facebook pages for an array of features and built models to predict the comment volume on these pages after different intervals of time. The specifics of the data extraction and feature engineering are not the key piece of interest here but instead what they did next. They trained various decision tree and neural network models and compared them across several performance metrics. The hypothesis of this work is that although deep networks achieve a large amount of notoriety, that their added complexity is not often justified (in terms of performance and training times).\n",
    "\n",
    "In this paper a Java implementation was used with the following models:\n",
    "- MLP (4)\n",
    "- MLP (20, 4)\n",
    "- REP Tree\n",
    "- M5P Tree\n",
    "- RBF Network (90 clusters)\n",
    "\n",
    "Since we would like to stay in our Python stack of SciKit-Learn and Tensorflow, the following comparable models were chosen:\n",
    "- MLP (4)\n",
    "- MLP (20, 4)\n",
    "- Decision Tree\n",
    "- Random Forest\n",
    "- Extra Trees\n",
    "- Adaboost"
   ]
  },
  {
   "cell_type": "markdown",
   "metadata": {},
   "source": [
    "### Data Preparation"
   ]
  },
  {
   "cell_type": "markdown",
   "metadata": {},
   "source": [
    "Multiple training set variants were provided. Each variant is numbered by the number of points extracted from each Facebook page. For instance, Variant 2 has two data points per Facebook pages at taken at random intervals."
   ]
  },
  {
   "cell_type": "code",
   "execution_count": null,
   "metadata": {},
   "outputs": [],
   "source": [
    "training_variants = {n: pd.read_csv(('datasets/facebook/Training/Features_Variant_%s.csv' % n), header=None) \n",
    "                     for n in range(1,6)}"
   ]
  },
  {
   "cell_type": "markdown",
   "metadata": {},
   "source": [
    "The test cases were built by evaluating the comment volume at 100 time intervals for 10 different pages."
   ]
  },
  {
   "cell_type": "code",
   "execution_count": 74,
   "metadata": {},
   "outputs": [],
   "source": [
    "test_cases = {n: pd.read_csv(('datasets/facebook/Testing/TestSet/Test_Case_%s.csv' % n), header=None) \n",
    "                     for n in range(1,11)}"
   ]
  },
  {
   "cell_type": "markdown",
   "metadata": {},
   "source": [
    "We use a simple scaler to transform our data. This scaler will be reused for all test and training sets."
   ]
  },
  {
   "cell_type": "code",
   "execution_count": 75,
   "metadata": {},
   "outputs": [
    {
     "data": {
      "text/plain": [
       "Pipeline(memory=None,\n",
       "     steps=[('std_scaler', StandardScaler(copy=True, with_mean=True, with_std=True))])"
      ]
     },
     "execution_count": 75,
     "metadata": {},
     "output_type": "execute_result"
    }
   ],
   "source": [
    "from sklearn.pipeline import Pipeline\n",
    "from sklearn.preprocessing import StandardScaler\n",
    "\n",
    "pipeline = Pipeline([\n",
    "        ('std_scaler', StandardScaler()),\n",
    "    ])\n",
    "\n",
    "X = training_variants[1].iloc[:,:-1].values\n",
    "y = training_variants[1].iloc[:, -1].values\n",
    "pipeline.fit(X)"
   ]
  },
  {
   "cell_type": "markdown",
   "metadata": {},
   "source": [
    "### Decision Tree Training\n",
    "\n",
    "For the decision tree based models, a randomized cross validation search is used for tuning. Models were tuned to minimize Mean Absolute Error."
   ]
  },
  {
   "cell_type": "code",
   "execution_count": 76,
   "metadata": {},
   "outputs": [],
   "source": [
    "from sklearn.metrics import f1_score\n",
    "from sklearn.model_selection import RandomizedSearchCV\n",
    "from scipy.stats import reciprocal, uniform, expon, randint\n",
    "\n",
    "def random_search_tuner(X, y, clf, params, scoring, cv=3, n_iter=500):\n",
    "\n",
    "    random_search = RandomizedSearchCV(clf, params, cv=cv, scoring=scoring, \n",
    "                                       n_jobs=-1, verbose=1, n_iter=n_iter)\n",
    "    random_search.fit(X, y)\n",
    "    print(\"Best params: %s\" % random_search.best_params_)\n",
    "    print(\"Train score: %s\" % random_search.best_score_)\n",
    "    \n",
    "    return random_search"
   ]
  },
  {
   "cell_type": "code",
   "execution_count": 77,
   "metadata": {},
   "outputs": [],
   "source": [
    "def train_model_with_variants(model, preparation_pipeline, training_variants, params, n_iter=50):\n",
    "    variant_models = {}\n",
    "    for training_variant_name, training_variant in training_variants.items():\n",
    "        X_train = training_variant.iloc[:,:-1].values\n",
    "        X_train_transformed = preparation_pipeline.transform(X_train)\n",
    "        y_train = training_variant.iloc[:, -1].values\n",
    "\n",
    "        random_search = random_search_tuner(X_train_transformed, y_train, \n",
    "                                            model, params, \n",
    "                                            scoring='neg_mean_absolute_error', n_iter=n_iter)\n",
    "        variant_models[training_variant_name] = random_search\n",
    "    return variant_models"
   ]
  },
  {
   "cell_type": "code",
   "execution_count": 78,
   "metadata": {},
   "outputs": [
    {
     "name": "stdout",
     "output_type": "stream",
     "text": [
      "Fitting 3 folds for each of 50 candidates, totalling 150 fits\n"
     ]
    },
    {
     "name": "stderr",
     "output_type": "stream",
     "text": [
      "[Parallel(n_jobs=-1)]: Done  18 tasks      | elapsed:    1.0s\n",
      "[Parallel(n_jobs=-1)]: Done 150 out of 150 | elapsed:    5.9s finished\n"
     ]
    },
    {
     "name": "stdout",
     "output_type": "stream",
     "text": [
      "Best params: {'max_depth': 4, 'max_leaf_nodes': 34, 'min_samples_leaf': 225, 'min_samples_split': 707}\n",
      "Train score: -5.7462653418\n",
      "Fitting 3 folds for each of 50 candidates, totalling 150 fits\n"
     ]
    },
    {
     "name": "stderr",
     "output_type": "stream",
     "text": [
      "[Parallel(n_jobs=-1)]: Done  18 tasks      | elapsed:    2.1s\n",
      "[Parallel(n_jobs=-1)]: Done 150 out of 150 | elapsed:   11.0s finished\n"
     ]
    },
    {
     "name": "stdout",
     "output_type": "stream",
     "text": [
      "Best params: {'max_depth': 4, 'max_leaf_nodes': 29, 'min_samples_leaf': 317, 'min_samples_split': 740}\n",
      "Train score: -5.54340323253\n",
      "Fitting 3 folds for each of 50 candidates, totalling 150 fits\n"
     ]
    },
    {
     "name": "stderr",
     "output_type": "stream",
     "text": [
      "[Parallel(n_jobs=-1)]: Done  18 tasks      | elapsed:    2.7s\n",
      "[Parallel(n_jobs=-1)]: Done 150 out of 150 | elapsed:   16.5s finished\n"
     ]
    },
    {
     "name": "stdout",
     "output_type": "stream",
     "text": [
      "Best params: {'max_depth': 4, 'max_leaf_nodes': 34, 'min_samples_leaf': 274, 'min_samples_split': 427}\n",
      "Train score: -5.09301922402\n",
      "Fitting 3 folds for each of 50 candidates, totalling 150 fits\n"
     ]
    },
    {
     "name": "stderr",
     "output_type": "stream",
     "text": [
      "[Parallel(n_jobs=-1)]: Done  18 tasks      | elapsed:    4.1s\n",
      "[Parallel(n_jobs=-1)]: Done 150 out of 150 | elapsed:   22.4s finished\n"
     ]
    },
    {
     "name": "stdout",
     "output_type": "stream",
     "text": [
      "Best params: {'max_depth': 4, 'max_leaf_nodes': 18, 'min_samples_leaf': 238, 'min_samples_split': 765}\n",
      "Train score: -5.02228121119\n",
      "Fitting 3 folds for each of 50 candidates, totalling 150 fits\n"
     ]
    },
    {
     "name": "stderr",
     "output_type": "stream",
     "text": [
      "[Parallel(n_jobs=-1)]: Done  18 tasks      | elapsed:    4.5s\n",
      "[Parallel(n_jobs=-1)]: Done 150 out of 150 | elapsed:   27.7s finished\n"
     ]
    },
    {
     "name": "stdout",
     "output_type": "stream",
     "text": [
      "Best params: {'max_depth': 4, 'max_leaf_nodes': 33, 'min_samples_leaf': 300, 'min_samples_split': 426}\n",
      "Train score: -5.05635269827\n"
     ]
    }
   ],
   "source": [
    "from sklearn.tree import DecisionTreeRegressor\n",
    "\n",
    "params = {'max_depth': randint(2, 5),\n",
    "        'min_samples_leaf': randint(200, 500),\n",
    "        'min_samples_split': randint(400, 1500),\n",
    "        'max_leaf_nodes': randint(2, 40)}\n",
    "\n",
    "dtree_variant_models = train_model_with_variants(DecisionTreeRegressor(), pipeline, training_variants, params)"
   ]
  },
  {
   "cell_type": "code",
   "execution_count": 79,
   "metadata": {},
   "outputs": [
    {
     "name": "stdout",
     "output_type": "stream",
     "text": [
      "Fitting 3 folds for each of 30 candidates, totalling 90 fits\n"
     ]
    },
    {
     "name": "stderr",
     "output_type": "stream",
     "text": [
      "[Parallel(n_jobs=-1)]: Done  18 tasks      | elapsed:    5.7s\n",
      "[Parallel(n_jobs=-1)]: Done  90 out of  90 | elapsed:   23.1s finished\n"
     ]
    },
    {
     "name": "stdout",
     "output_type": "stream",
     "text": [
      "Best params: {'max_depth': 4, 'max_leaf_nodes': 27, 'min_samples_leaf': 309, 'min_samples_split': 601, 'n_estimators': 12}\n",
      "Train score: -5.78470734272\n",
      "Fitting 3 folds for each of 30 candidates, totalling 90 fits\n"
     ]
    },
    {
     "name": "stderr",
     "output_type": "stream",
     "text": [
      "[Parallel(n_jobs=-1)]: Done  18 tasks      | elapsed:   12.2s\n",
      "[Parallel(n_jobs=-1)]: Done  90 out of  90 | elapsed:   48.7s finished\n"
     ]
    },
    {
     "name": "stdout",
     "output_type": "stream",
     "text": [
      "Best params: {'max_depth': 4, 'max_leaf_nodes': 36, 'min_samples_leaf': 389, 'min_samples_split': 666, 'n_estimators': 20}\n",
      "Train score: -5.55961022119\n",
      "Fitting 3 folds for each of 30 candidates, totalling 90 fits\n"
     ]
    },
    {
     "name": "stderr",
     "output_type": "stream",
     "text": [
      "[Parallel(n_jobs=-1)]: Done  18 tasks      | elapsed:   17.6s\n",
      "[Parallel(n_jobs=-1)]: Done  90 out of  90 | elapsed:  1.4min finished\n"
     ]
    },
    {
     "name": "stdout",
     "output_type": "stream",
     "text": [
      "Best params: {'max_depth': 4, 'max_leaf_nodes': 14, 'min_samples_leaf': 238, 'min_samples_split': 436, 'n_estimators': 37}\n",
      "Train score: -4.83265021153\n",
      "Fitting 3 folds for each of 30 candidates, totalling 90 fits\n"
     ]
    },
    {
     "name": "stderr",
     "output_type": "stream",
     "text": [
      "[Parallel(n_jobs=-1)]: Done  18 tasks      | elapsed:   30.3s\n",
      "[Parallel(n_jobs=-1)]: Done  90 out of  90 | elapsed:  1.8min finished\n"
     ]
    },
    {
     "name": "stdout",
     "output_type": "stream",
     "text": [
      "Best params: {'max_depth': 4, 'max_leaf_nodes': 26, 'min_samples_leaf': 269, 'min_samples_split': 628, 'n_estimators': 28}\n",
      "Train score: -4.7139450799\n",
      "Fitting 3 folds for each of 30 candidates, totalling 90 fits\n"
     ]
    },
    {
     "name": "stderr",
     "output_type": "stream",
     "text": [
      "[Parallel(n_jobs=-1)]: Done  18 tasks      | elapsed:   33.3s\n",
      "[Parallel(n_jobs=-1)]: Done  90 out of  90 | elapsed:  2.6min finished\n"
     ]
    },
    {
     "name": "stdout",
     "output_type": "stream",
     "text": [
      "Best params: {'max_depth': 4, 'max_leaf_nodes': 24, 'min_samples_leaf': 255, 'min_samples_split': 815, 'n_estimators': 16}\n",
      "Train score: -4.77435163114\n"
     ]
    }
   ],
   "source": [
    "from sklearn.ensemble import RandomForestRegressor\n",
    "\n",
    "params = {'max_depth': randint(2, 5),\n",
    "        'min_samples_leaf': randint(200, 500),\n",
    "        'min_samples_split': randint(400, 1500),\n",
    "        'max_leaf_nodes': randint(2, 40),\n",
    "        'n_estimators': randint(5, 40)}\n",
    "\n",
    "rf_variant_models = train_model_with_variants(RandomForestRegressor(), pipeline, training_variants, params, n_iter=30)"
   ]
  },
  {
   "cell_type": "code",
   "execution_count": 80,
   "metadata": {},
   "outputs": [
    {
     "name": "stdout",
     "output_type": "stream",
     "text": [
      "Fitting 3 folds for each of 30 candidates, totalling 90 fits\n"
     ]
    },
    {
     "name": "stderr",
     "output_type": "stream",
     "text": [
      "[Parallel(n_jobs=-1)]: Done  18 tasks      | elapsed:    4.5s\n",
      "[Parallel(n_jobs=-1)]: Done  90 out of  90 | elapsed:   18.5s finished\n"
     ]
    },
    {
     "name": "stdout",
     "output_type": "stream",
     "text": [
      "Best params: {'max_depth': 4, 'max_leaf_nodes': 15, 'min_samples_leaf': 209, 'min_samples_split': 1199, 'n_estimators': 37}\n",
      "Train score: -6.16574728885\n",
      "Fitting 3 folds for each of 30 candidates, totalling 90 fits\n"
     ]
    },
    {
     "name": "stderr",
     "output_type": "stream",
     "text": [
      "[Parallel(n_jobs=-1)]: Done  18 tasks      | elapsed:   15.1s\n",
      "[Parallel(n_jobs=-1)]: Done  90 out of  90 | elapsed:   44.7s finished\n"
     ]
    },
    {
     "name": "stdout",
     "output_type": "stream",
     "text": [
      "Best params: {'max_depth': 4, 'max_leaf_nodes': 19, 'min_samples_leaf': 220, 'min_samples_split': 841, 'n_estimators': 32}\n",
      "Train score: -5.76269333667\n",
      "Fitting 3 folds for each of 30 candidates, totalling 90 fits\n"
     ]
    },
    {
     "name": "stderr",
     "output_type": "stream",
     "text": [
      "[Parallel(n_jobs=-1)]: Done  18 tasks      | elapsed:   24.9s\n",
      "[Parallel(n_jobs=-1)]: Done  90 out of  90 | elapsed:  1.4min finished\n"
     ]
    },
    {
     "name": "stdout",
     "output_type": "stream",
     "text": [
      "Best params: {'max_depth': 4, 'max_leaf_nodes': 16, 'min_samples_leaf': 247, 'min_samples_split': 928, 'n_estimators': 36}\n",
      "Train score: -5.47258101473\n",
      "Fitting 3 folds for each of 30 candidates, totalling 90 fits\n"
     ]
    },
    {
     "name": "stderr",
     "output_type": "stream",
     "text": [
      "[Parallel(n_jobs=-1)]: Done  18 tasks      | elapsed:   30.5s\n",
      "[Parallel(n_jobs=-1)]: Done  90 out of  90 | elapsed:  2.0min finished\n"
     ]
    },
    {
     "name": "stdout",
     "output_type": "stream",
     "text": [
      "Best params: {'max_depth': 4, 'max_leaf_nodes': 29, 'min_samples_leaf': 226, 'min_samples_split': 944, 'n_estimators': 23}\n",
      "Train score: -5.32226651857\n",
      "Fitting 3 folds for each of 30 candidates, totalling 90 fits\n"
     ]
    },
    {
     "name": "stderr",
     "output_type": "stream",
     "text": [
      "[Parallel(n_jobs=-1)]: Done  18 tasks      | elapsed:   31.2s\n",
      "[Parallel(n_jobs=-1)]: Done  90 out of  90 | elapsed:  2.1min finished\n"
     ]
    },
    {
     "name": "stdout",
     "output_type": "stream",
     "text": [
      "Best params: {'max_depth': 4, 'max_leaf_nodes': 18, 'min_samples_leaf': 200, 'min_samples_split': 1131, 'n_estimators': 6}\n",
      "Train score: -5.34964565646\n"
     ]
    }
   ],
   "source": [
    "from sklearn.ensemble import ExtraTreesRegressor\n",
    "\n",
    "params = {'max_depth': randint(2, 5),\n",
    "        'min_samples_leaf': randint(200, 500),\n",
    "        'min_samples_split': randint(400, 1500),\n",
    "        'max_leaf_nodes': randint(2, 40),\n",
    "        'n_estimators': randint(5, 40)}\n",
    "\n",
    "etree_variant_models = train_model_with_variants(ExtraTreesRegressor(), pipeline, training_variants, params, n_iter=30)"
   ]
  },
  {
   "cell_type": "code",
   "execution_count": 81,
   "metadata": {},
   "outputs": [
    {
     "name": "stdout",
     "output_type": "stream",
     "text": [
      "Fitting 3 folds for each of 30 candidates, totalling 90 fits\n"
     ]
    },
    {
     "name": "stderr",
     "output_type": "stream",
     "text": [
      "[Parallel(n_jobs=-1)]: Done  18 tasks      | elapsed:   16.0s\n",
      "[Parallel(n_jobs=-1)]: Done  90 out of  90 | elapsed:  1.2min finished\n"
     ]
    },
    {
     "name": "stdout",
     "output_type": "stream",
     "text": [
      "Best params: {'learning_rate': 0.12116488690224228, 'n_estimators': 52}\n",
      "Train score: -8.29020954569\n",
      "Fitting 3 folds for each of 30 candidates, totalling 90 fits\n"
     ]
    },
    {
     "name": "stderr",
     "output_type": "stream",
     "text": [
      "[Parallel(n_jobs=-1)]: Done  18 tasks      | elapsed:   30.1s\n",
      "[Parallel(n_jobs=-1)]: Done  90 out of  90 | elapsed:  2.1min finished\n"
     ]
    },
    {
     "name": "stdout",
     "output_type": "stream",
     "text": [
      "Best params: {'learning_rate': 0.27005755272906173, 'n_estimators': 26}\n",
      "Train score: -8.67290314933\n",
      "Fitting 3 folds for each of 30 candidates, totalling 90 fits\n"
     ]
    },
    {
     "name": "stderr",
     "output_type": "stream",
     "text": [
      "[Parallel(n_jobs=-1)]: Done  18 tasks      | elapsed:   41.7s\n",
      "[Parallel(n_jobs=-1)]: Done  90 out of  90 | elapsed:  3.8min finished\n"
     ]
    },
    {
     "name": "stdout",
     "output_type": "stream",
     "text": [
      "Best params: {'learning_rate': 0.18239177793792108, 'n_estimators': 15}\n",
      "Train score: -7.56471957559\n",
      "Fitting 3 folds for each of 30 candidates, totalling 90 fits\n"
     ]
    },
    {
     "name": "stderr",
     "output_type": "stream",
     "text": [
      "[Parallel(n_jobs=-1)]: Done  18 tasks      | elapsed:   40.1s\n",
      "[Parallel(n_jobs=-1)]: Done  90 out of  90 | elapsed:  3.0min finished\n"
     ]
    },
    {
     "name": "stdout",
     "output_type": "stream",
     "text": [
      "Best params: {'learning_rate': 0.25855578039958715, 'n_estimators': 139}\n",
      "Train score: -11.8561514665\n",
      "Fitting 3 folds for each of 30 candidates, totalling 90 fits\n"
     ]
    },
    {
     "name": "stderr",
     "output_type": "stream",
     "text": [
      "[Parallel(n_jobs=-1)]: Done  18 tasks      | elapsed:  1.7min\n",
      "[Parallel(n_jobs=-1)]: Done  90 out of  90 | elapsed:  5.4min finished\n"
     ]
    },
    {
     "name": "stdout",
     "output_type": "stream",
     "text": [
      "Best params: {'learning_rate': 0.11435933645156662, 'n_estimators': 118}\n",
      "Train score: -10.2821260424\n"
     ]
    }
   ],
   "source": [
    "from sklearn.ensemble import AdaBoostRegressor\n",
    "\n",
    "params = {'learning_rate': uniform(.1, 3),\n",
    "        'n_estimators': randint(10, 150)}\n",
    "\n",
    "aboost_variant_models = train_model_with_variants(AdaBoostRegressor(), pipeline, training_variants, params, n_iter=30)"
   ]
  },
  {
   "cell_type": "markdown",
   "metadata": {},
   "source": [
    "### Neural Network Training\n",
    "Our NNs are built using high level Tensorflow APIs that are compatable with Scikit Learn estimators. This lets us use the same evaluation functions between our Scikit Learn Decision Tree and Tensorflow NN models."
   ]
  },
  {
   "cell_type": "code",
   "execution_count": 132,
   "metadata": {},
   "outputs": [],
   "source": [
    "def tf_train_model_with_variants(params, preparation_pipeline, training_variants):\n",
    "    variant_models = {}\n",
    "    variant_training_times = {}\n",
    "    for training_variant_name, training_variant in training_variants.items():\n",
    "        X_train = training_variant.iloc[:,:-1].values\n",
    "        X_train_transformed = preparation_pipeline.transform(X_train)\n",
    "        y_train = training_variant.iloc[:, -1].values\n",
    "        \n",
    "        start_time = time.time()\n",
    "        model = tf.contrib.learn.DNNRegressor(**params)\n",
    "        model.fit(x=X_train_transformed, y=y_train, batch_size=25, steps=20000)\n",
    "        variant_models[training_variant_name] = model\n",
    "        variant_training_times[training_variant_name] = time.time() - start_time\n",
    "    return variant_models, variant_training_times"
   ]
  },
  {
   "cell_type": "code",
   "execution_count": 133,
   "metadata": {},
   "outputs": [],
   "source": [
    "feature_columns = tf.contrib.learn.infer_real_valued_columns_from_input(X)\n",
    "\n",
    "params = {'hidden_units': [20, 4], 'feature_columns': feature_columns}\n",
    "dnn_20_4_variant_models, dnn_20_4_variant_times = tf_train_model_with_variants(params, pipeline, training_variants)"
   ]
  },
  {
   "cell_type": "code",
   "execution_count": 134,
   "metadata": {},
   "outputs": [],
   "source": [
    "params = {'hidden_units': [4], 'feature_columns': feature_columns}\n",
    "dnn_4_variant_models, dnn_4_variant_times = tf_train_model_with_variants(params, pipeline, training_variants)"
   ]
  },
  {
   "cell_type": "markdown",
   "metadata": {},
   "source": [
    "### Evaluation\n",
    "\n",
    "Four metrics were used to evaluate our models:\n",
    "- Hits@10: This is the number of posts correctly predicted to be in the top 10 by comment volume\n",
    "- AUC@10: This is the AUC based on a Top10 classification\n",
    "- MAE: Mean absolute error\n",
    "- Training time: Time taken to train a single instance of the model"
   ]
  },
  {
   "cell_type": "code",
   "execution_count": 135,
   "metadata": {},
   "outputs": [],
   "source": [
    "def top_hits(y_test, y_pred, top_n=10):\n",
    "    top_pred = set(np.flip(np.argsort(y_pred), 0)[:top_n])\n",
    "    top_test = set(np.flip(np.argsort(y_test), 0)[:top_n])\n",
    "    return len(top_pred.intersection(top_test))"
   ]
  },
  {
   "cell_type": "code",
   "execution_count": 136,
   "metadata": {},
   "outputs": [],
   "source": [
    "from sklearn.metrics import roc_auc_score\n",
    "\n",
    "def top_hits_auc(y_test, y_pred, top_n=3):\n",
    "    top_pred = np.flip(np.argsort(y_pred), 0)[:top_n]\n",
    "    top_test = np.flip(np.argsort(y_test), 0)[:top_n]\n",
    "\n",
    "    pred_top_hits = np.zeros(len(y_test))\n",
    "    pred_top_hits[top_pred] = 1\n",
    "    \n",
    "    test_top_hits = np.zeros(len(y_test))\n",
    "    test_top_hits[top_test] = 1\n",
    "    \n",
    "    return roc_auc_score(test_top_hits, pred_top_hits)"
   ]
  },
  {
   "cell_type": "code",
   "execution_count": 137,
   "metadata": {},
   "outputs": [],
   "source": [
    "def train_time_variants(models):\n",
    "    train_times = []\n",
    "    for name, model_variants in models.items():\n",
    "        for variant, model in model_variants.items():\n",
    "            train_times.append(Series({'model': name, \n",
    "                                                   'variant': variant,\n",
    "                                                   'metric': 'train_time',\n",
    "                                                   'value': model.cv_results_['mean_fit_time'].mean()}))\n",
    "    return pd.concat(train_times, axis=1).T"
   ]
  },
  {
   "cell_type": "markdown",
   "metadata": {},
   "source": [
    "We can now evaluate our saved model per variant on the above metrics. We will collect all of these evaluations in a DataFrame for easy plotting."
   ]
  },
  {
   "cell_type": "code",
   "execution_count": 138,
   "metadata": {},
   "outputs": [],
   "source": [
    "from sklearn.metrics import mean_absolute_error\n",
    "\n",
    "def eval_test_cases(models, test_cases, evaluators):\n",
    "    evaluations = []\n",
    "    for name, model_variants in models.items():\n",
    "        for variant, model in model_variants.items():\n",
    "            for test_case_name, test_case in test_cases.items():\n",
    "                X_test = test_case.iloc[:,:-1].values\n",
    "                X_test_transformed = pipeline.transform(X_test)\n",
    "                y_test = test_case.iloc[:, -1].values\n",
    "\n",
    "                y_pred = np.array(list(model.predict(X_test_transformed)))\n",
    "                for evaluator_name, evaluator in evaluators.items():\n",
    "                    score = evaluator(y_test, y_pred)\n",
    "                    evaluations.append(Series({'model': name, \n",
    "                                               'variant': variant,\n",
    "                                               'metric': evaluator_name,\n",
    "                                               'test_case': test_case_name,\n",
    "                                               'value': score}))\n",
    "    return pd.concat(evaluations, axis=1).T\n",
    "\n",
    "sklearn_models = ('dtree', 'random_forest', 'extra_trees', 'adaboost')\n",
    "tf_models = ('dnn_20_4', 'dnn_4')\n",
    "models = {'dtree': dtree_variant_models, \n",
    "          'random_forest': rf_variant_models,\n",
    "          'extra_trees': etree_variant_models,\n",
    "          'adaboost': aboost_variant_models,\n",
    "          'dnn_20_4': dnn_20_4_variant_models,\n",
    "          'dnn_4': dnn_4_variant_models}\n",
    "evaluators = {'Hit@10': top_hits,\n",
    "              'AUC@10': top_hits_auc,\n",
    "              'MAE': mean_absolute_error}\n",
    "model_performance_metrics = eval_test_cases(models, test_cases, evaluators)"
   ]
  },
  {
   "cell_type": "code",
   "execution_count": 139,
   "metadata": {},
   "outputs": [],
   "source": [
    "sklearn_model_training_metrics = train_time_variants({m: models[m] for m in sklearn_models})"
   ]
  },
  {
   "cell_type": "code",
   "execution_count": 140,
   "metadata": {},
   "outputs": [],
   "source": [
    "tf_model_training_metrics_series = []\n",
    "for variant, t in dnn_20_4_variant_times.items():\n",
    "    tf_model_training_metrics_series.append(Series({'model': 'dnn_20_4', \n",
    "                                                    'variant': variant, \n",
    "                                                    'metric': 'train_time', \n",
    "                                                    'value': t}))\n",
    "for variant, t in dnn_4_variant_times.items():\n",
    "    tf_model_training_metrics_series.append(Series({'model': 'dnn_4', \n",
    "                                                    'variant': variant, \n",
    "                                                    'metric': 'train_time', \n",
    "                                                    'value': t}))\n",
    "tf_model_training_metrics = pd.concat(tf_model_training_metrics_series, axis=1).T"
   ]
  },
  {
   "cell_type": "code",
   "execution_count": 141,
   "metadata": {},
   "outputs": [
    {
     "data": {
      "text/html": [
       "<div>\n",
       "<style>\n",
       "    .dataframe thead tr:only-child th {\n",
       "        text-align: right;\n",
       "    }\n",
       "\n",
       "    .dataframe thead th {\n",
       "        text-align: left;\n",
       "    }\n",
       "\n",
       "    .dataframe tbody tr th {\n",
       "        vertical-align: top;\n",
       "    }\n",
       "</style>\n",
       "<table border=\"1\" class=\"dataframe\">\n",
       "  <thead>\n",
       "    <tr style=\"text-align: right;\">\n",
       "      <th></th>\n",
       "      <th>metric</th>\n",
       "      <th>model</th>\n",
       "      <th>test_case</th>\n",
       "      <th>value</th>\n",
       "      <th>variant</th>\n",
       "    </tr>\n",
       "  </thead>\n",
       "  <tbody>\n",
       "    <tr>\n",
       "      <th>0</th>\n",
       "      <td>Hit@10</td>\n",
       "      <td>dtree</td>\n",
       "      <td>1</td>\n",
       "      <td>7</td>\n",
       "      <td>1</td>\n",
       "    </tr>\n",
       "    <tr>\n",
       "      <th>1</th>\n",
       "      <td>AUC@10</td>\n",
       "      <td>dtree</td>\n",
       "      <td>1</td>\n",
       "      <td>0.656357</td>\n",
       "      <td>1</td>\n",
       "    </tr>\n",
       "    <tr>\n",
       "      <th>2</th>\n",
       "      <td>MAE</td>\n",
       "      <td>dtree</td>\n",
       "      <td>1</td>\n",
       "      <td>23.2499</td>\n",
       "      <td>1</td>\n",
       "    </tr>\n",
       "    <tr>\n",
       "      <th>3</th>\n",
       "      <td>Hit@10</td>\n",
       "      <td>dtree</td>\n",
       "      <td>2</td>\n",
       "      <td>6</td>\n",
       "      <td>1</td>\n",
       "    </tr>\n",
       "    <tr>\n",
       "      <th>4</th>\n",
       "      <td>AUC@10</td>\n",
       "      <td>dtree</td>\n",
       "      <td>2</td>\n",
       "      <td>0.656357</td>\n",
       "      <td>1</td>\n",
       "    </tr>\n",
       "    <tr>\n",
       "      <th>5</th>\n",
       "      <td>MAE</td>\n",
       "      <td>dtree</td>\n",
       "      <td>2</td>\n",
       "      <td>23.531</td>\n",
       "      <td>1</td>\n",
       "    </tr>\n",
       "    <tr>\n",
       "      <th>6</th>\n",
       "      <td>Hit@10</td>\n",
       "      <td>dtree</td>\n",
       "      <td>3</td>\n",
       "      <td>6</td>\n",
       "      <td>1</td>\n",
       "    </tr>\n",
       "    <tr>\n",
       "      <th>7</th>\n",
       "      <td>AUC@10</td>\n",
       "      <td>dtree</td>\n",
       "      <td>3</td>\n",
       "      <td>0.656357</td>\n",
       "      <td>1</td>\n",
       "    </tr>\n",
       "    <tr>\n",
       "      <th>8</th>\n",
       "      <td>MAE</td>\n",
       "      <td>dtree</td>\n",
       "      <td>3</td>\n",
       "      <td>21.8966</td>\n",
       "      <td>1</td>\n",
       "    </tr>\n",
       "    <tr>\n",
       "      <th>9</th>\n",
       "      <td>Hit@10</td>\n",
       "      <td>dtree</td>\n",
       "      <td>4</td>\n",
       "      <td>6</td>\n",
       "      <td>1</td>\n",
       "    </tr>\n",
       "  </tbody>\n",
       "</table>\n",
       "</div>"
      ],
      "text/plain": [
       "   metric  model test_case     value variant\n",
       "0  Hit@10  dtree         1         7       1\n",
       "1  AUC@10  dtree         1  0.656357       1\n",
       "2     MAE  dtree         1   23.2499       1\n",
       "3  Hit@10  dtree         2         6       1\n",
       "4  AUC@10  dtree         2  0.656357       1\n",
       "5     MAE  dtree         2    23.531       1\n",
       "6  Hit@10  dtree         3         6       1\n",
       "7  AUC@10  dtree         3  0.656357       1\n",
       "8     MAE  dtree         3   21.8966       1\n",
       "9  Hit@10  dtree         4         6       1"
      ]
     },
     "execution_count": 141,
     "metadata": {},
     "output_type": "execute_result"
    }
   ],
   "source": [
    "model_metrics = pd.concat([model_performance_metrics, sklearn_model_training_metrics, tf_model_training_metrics])\n",
    "model_metrics.head(10)"
   ]
  },
  {
   "cell_type": "code",
   "execution_count": 142,
   "metadata": {},
   "outputs": [],
   "source": [
    "def metric_variant_plot(model_metrics, metric):\n",
    "    sns.factorplot(x='model', y='value', hue='variant', \n",
    "                   data=model_metrics[model_metrics['metric']==metric], \n",
    "                   kind='bar', palette='muted', size=8)\n",
    "    plt.title(metric)"
   ]
  },
  {
   "cell_type": "code",
   "execution_count": 143,
   "metadata": {},
   "outputs": [
    {
     "data": {
      "image/png": "[encoded data removed]",
      "text/plain": [
       "<matplotlib.figure.Figure at 0x7f388acb8b70>"
      ]
     },
     "metadata": {},
     "output_type": "display_data"
    }
   ],
   "source": [
    "metric_variant_plot(model_metrics, 'Hit@10')"
   ]
  },
  {
   "cell_type": "code",
   "execution_count": 144,
   "metadata": {},
   "outputs": [
    {
     "data": {
      "image/png": "[encoded data removed]",
      "text/plain": [
       "<matplotlib.figure.Figure at 0x7f38548dc5f8>"
      ]
     },
     "metadata": {},
     "output_type": "display_data"
    }
   ],
   "source": [
    "metric_variant_plot(model_metrics, 'MAE')"
   ]
  },
  {
   "cell_type": "code",
   "execution_count": 145,
   "metadata": {},
   "outputs": [
    {
     "data": {
      "image/png": "[encoded data removed]",
      "text/plain": [
       "<matplotlib.figure.Figure at 0x7f38550f30b8>"
      ]
     },
     "metadata": {},
     "output_type": "display_data"
    }
   ],
   "source": [
    "metric_variant_plot(model_metrics, 'AUC@10')"
   ]
  },
  {
   "cell_type": "code",
   "execution_count": 146,
   "metadata": {},
   "outputs": [
    {
     "data": {
      "image/png": "[encoded data removed]",
      "text/plain": [
       "<matplotlib.figure.Figure at 0x7f392f407ef0>"
      ]
     },
     "metadata": {},
     "output_type": "display_data"
    }
   ],
   "source": [
    "metric_variant_plot(model_metrics, 'train_time')"
   ]
  },
  {
   "cell_type": "markdown",
   "metadata": {},
   "source": [
    "### Conclusions\n",
    "Overall, we see very similiar performance metrics across models and variants. Training time for some of the decision tree models scale very poorly with the increase in training set size, although there did not seem to be much extra performance provided by these larger datasets either.\n",
    "\n",
    "This leads us to follow the rule of thumb:\n",
    "> Start simple, and only add complexity if the simple solution did not suffice."
   ]
  }
 ],
 "metadata": {
  "kernelspec": {
   "display_name": "Python 3",
   "language": "python",
   "name": "python3"
  },
  "language_info": {
   "codemirror_mode": {
    "name": "ipython",
    "version": 3
   },
   "file_extension": ".py",
   "mimetype": "text/x-python",
   "name": "python",
   "nbconvert_exporter": "python",
   "pygments_lexer": "ipython3",
   "version": "3.6.3"
  }
 },
 "nbformat": 4,
 "nbformat_minor": 2
}
