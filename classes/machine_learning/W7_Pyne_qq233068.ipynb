{
 "cells": [
  {
   "cell_type": "markdown",
   "metadata": {},
   "source": [
    "### Your name:\n",
    "\n",
    "<pre> Derek Pyne </pre>\n",
    "\n",
    "### Collaborators:\n",
    "\n",
    "<pre> None </pre>\n"
   ]
  },
  {
   "cell_type": "code",
   "execution_count": 1,
   "metadata": {
    "collapsed": true
   },
   "outputs": [],
   "source": [
    "import numpy as np\n",
    "import pandas as pd\n",
    "\n",
    "# to make this notebook's output stable across runs\n",
    "np.random.seed(123)\n",
    "\n",
    "# To plot pretty figures\n",
    "%matplotlib inline\n",
    "import matplotlib\n",
    "import matplotlib.pyplot as plt\n",
    "import seaborn as sns\n",
    "sns.set_style('whitegrid')\n",
    "plt.rcParams['axes.labelsize'] = 14\n",
    "plt.rcParams['xtick.labelsize'] = 12\n",
    "plt.rcParams['ytick.labelsize'] = 12\n"
   ]
  },
  {
   "cell_type": "markdown",
   "metadata": {},
   "source": [
    "### Classification - Based on Week 3"
   ]
  },
  {
   "cell_type": "markdown",
   "metadata": {},
   "source": [
    "Q1. Build a classification model for the default of credit card clients dataset. More info here:\n",
    "https://archive.ics.uci.edu/ml/datasets/default+of+credit+card+clients\n",
    "\n",
    "In week 3, you:\n",
    "- Explored the dataset\n",
    "- Built a full data pipeline\n",
    "- Pre-processed data, explored features\n",
    "\n",
    "Building on your work of week 3:\n",
    "- Split dataset into 3 sets:\n",
    "  - 70% -> Training and cross validation\n",
    "  - 15% -> Model Stacking\n",
    "  - 15% -> Testing\n",
    "  \n",
    "\n",
    "- Tune a decision tree classfier:\n",
    "  - select a score (http://scikit-learn.org/stable/modules/model_evaluation.html). Explain your choice \n",
    "  - tune one parameter a time. Generate a plot for the score vs parameter values. Analyze your results.\n",
    "    - criterion, max_depth, min_samples_split, min_samples_leaf, max_leaf_nodes=None    \n",
    "  - tune all parameters at the same time using a randomgrid(http://scikit-learn.org/stable/modules/generated/sklearn.model_selection.RandomizedSearchCV.html#sklearn.model_selection.RandomizedSearchCV). First, run with a coarse grid, then refine in the next iteration. Use the information from the previous step to select parameter values.\n",
    "  "
   ]
  },
  {
   "cell_type": "markdown",
   "metadata": {},
   "source": [
    "## Obtain"
   ]
  },
  {
   "cell_type": "code",
   "execution_count": 2,
   "metadata": {
    "collapsed": false
   },
   "outputs": [],
   "source": [
    "df = pd.read_excel(\"datasets/credit/default_of_credit_card_clients.xls\", \n",
    "                   sheet = 0, skiprows= 1, header = 0)\n",
    "df.drop('ID', axis=1, inplace=True)"
   ]
  },
  {
   "cell_type": "code",
   "execution_count": 3,
   "metadata": {
    "collapsed": true
   },
   "outputs": [],
   "source": [
    "from sklearn.model_selection import train_test_split\n",
    "\n",
    "df_labels = df['default payment next month'].copy()\n",
    "df.drop('default payment next month', axis=1, inplace=True)\n",
    "\n",
    "X_train, X_temp, y_train, y_temp = train_test_split(df, df_labels, \n",
    "                                    test_size=0.3, random_state=123)\n",
    "X_ms, X_test, y_ms, y_test = train_test_split(X_temp, y_temp, \n",
    "                                    test_size=0.5, random_state=123)"
   ]
  },
  {
   "cell_type": "code",
   "execution_count": 4,
   "metadata": {},
   "outputs": [
    {
     "data": {
      "text/plain": [
       "Model Stacking Size     4500\n",
       "Test Size               4500\n",
       "Train Size             21000\n",
       "dtype: int64"
      ]
     },
     "execution_count": 4,
     "metadata": {},
     "output_type": "execute_result"
    }
   ],
   "source": [
    "pd.Series({'Train Size': len(X_train), \n",
    "           'Model Stacking Size': len(X_ms),\n",
    "           'Test Size': len(X_test)})"
   ]
  },
  {
   "cell_type": "markdown",
   "metadata": {},
   "source": [
    "## Extract\n",
    "\n",
    "We can now build out a pipeline by one-hot encoding our categorical features and scaling our numerical features."
   ]
  },
  {
   "cell_type": "code",
   "execution_count": 5,
   "metadata": {
    "collapsed": true
   },
   "outputs": [],
   "source": [
    "from sklearn.base import BaseEstimator, TransformerMixin\n",
    "\n",
    "class DataFrameSelector(BaseEstimator, TransformerMixin):\n",
    "    def __init__(self, attribute_names):\n",
    "        self.attribute_names = attribute_names\n",
    "    def fit(self, X, y=None):\n",
    "        return self\n",
    "    def transform(self, X):\n",
    "        return X[self.attribute_names].values"
   ]
  },
  {
   "cell_type": "code",
   "execution_count": 6,
   "metadata": {
    "collapsed": false
   },
   "outputs": [],
   "source": [
    "from sklearn.pipeline import Pipeline\n",
    "from sklearn.preprocessing import StandardScaler\n",
    "from sklearn.preprocessing import OneHotEncoder\n",
    "\n",
    "# exclusion_attribs = ['PAY_0', 'PAY_1', 'PAY_2', 'PAY_3', \n",
    "#                      'PAY_4', 'PAY_5', 'PAY_6']\n",
    "exclusion_attribs = []\n",
    "cat_attribs = ['EDUCATION', 'MARRIAGE', 'SEX']\n",
    "num_attribs = [c for c in df.columns \n",
    "               if c not in cat_attribs and c not in exclusion_attribs]\n",
    "\n",
    "num_pipeline = Pipeline([\n",
    "        ('selector', DataFrameSelector(num_attribs)),\n",
    "        ('std_scaler', StandardScaler()),\n",
    "    ])\n",
    "\n",
    "cat_pipeline = Pipeline([\n",
    "        ('selector', DataFrameSelector(cat_attribs)),\n",
    "        ('cat_encoder', OneHotEncoder())\n",
    "    ])"
   ]
  },
  {
   "cell_type": "markdown",
   "metadata": {},
   "source": [
    "We can now transform all three of our datasets."
   ]
  },
  {
   "cell_type": "code",
   "execution_count": 7,
   "metadata": {
    "collapsed": false
   },
   "outputs": [
    {
     "name": "stderr",
     "output_type": "stream",
     "text": [
      "/home/derek_pyne/anaconda3/lib/python3.6/site-packages/sklearn/utils/validation.py:475: DataConversionWarning: Data with input dtype int64 was converted to float64 by StandardScaler.\n",
      "  warnings.warn(msg, DataConversionWarning)\n",
      "/home/derek_pyne/anaconda3/lib/python3.6/site-packages/sklearn/utils/validation.py:475: DataConversionWarning: Data with input dtype int64 was converted to float64 by StandardScaler.\n",
      "  warnings.warn(msg, DataConversionWarning)\n"
     ]
    }
   ],
   "source": [
    "from sklearn.pipeline import FeatureUnion\n",
    "\n",
    "full_pipeline = FeatureUnion(transformer_list=[\n",
    "        (\"num_pipeline\", num_pipeline),\n",
    "        (\"cat_pipeline\", cat_pipeline),\n",
    "    ])\n",
    "full_pipeline.fit(X_train)\n",
    "X_train_prepared = full_pipeline.transform(X_train)\n",
    "X_ms_prepared = full_pipeline.transform(X_ms)\n",
    "X_test_prepared = full_pipeline.transform(X_test)"
   ]
  },
  {
   "cell_type": "markdown",
   "metadata": {},
   "source": [
    "## Model"
   ]
  },
  {
   "cell_type": "markdown",
   "metadata": {},
   "source": [
    "We will start by training a decision tree classifier. To get a sense of the model performance we tune each parameter on its own before performing a larger **Randomized CV Search** on the region that looks promising.\n",
    "\n",
    "Since this model is imbalanced, we'll use the **f1** score to judge the performance."
   ]
  },
  {
   "cell_type": "code",
   "execution_count": 8,
   "metadata": {
    "collapsed": false
   },
   "outputs": [],
   "source": [
    "from sklearn.model_selection import GridSearchCV, RandomizedSearchCV\n",
    "from scipy.stats import reciprocal, uniform, expon, randint\n",
    "\n",
    "def parameter_tuner(X, y, model, param_grid, plot=True, scoring='f1', cv=4, n_iter=50):\n",
    "    grid_search = GridSearchCV(model, param_grid, cv=cv, scoring=scoring, n_jobs=-1, verbose=1)\n",
    "    grid_search.fit(X, y)\n",
    "    cvres = grid_search.cv_results_\n",
    "    \n",
    "    param_grid_dict_list = dict(zip(cvres[\"params\"][0], zip(*[d.values() for d in cvres[\"params\"]])))\n",
    "    result_df = pd.DataFrame({**{'score': cvres[\"mean_test_score\"]}, **param_grid_dict_list})\n",
    "\n",
    "    if plot:\n",
    "        for d in param_grid_dict_list:\n",
    "            result_df.plot(x=d, y='score', legend=False)\n",
    "            plt.ylabel('score')\n",
    "    return result_df, grid_search.best_estimator_"
   ]
  },
  {
   "cell_type": "code",
   "execution_count": 9,
   "metadata": {},
   "outputs": [
    {
     "name": "stdout",
     "output_type": "stream",
     "text": [
      "Fitting 4 folds for each of 5 candidates, totalling 20 fits\n"
     ]
    },
    {
     "name": "stderr",
     "output_type": "stream",
     "text": [
      "[Parallel(n_jobs=-1)]: Done  10 out of  20 | elapsed:    0.3s remaining:    0.3s\n",
      "[Parallel(n_jobs=-1)]: Done  20 out of  20 | elapsed:    0.4s finished\n"
     ]
    },
    {
     "data": {
      "image/png": "[encoded data removed]",
      "text/plain": [
       "<matplotlib.figure.Figure at 0x7f9ab02c6c88>"
      ]
     },
     "metadata": {},
     "output_type": "display_data"
    }
   ],
   "source": [
    "from sklearn.tree import DecisionTreeClassifier\n",
    "result_df = parameter_tuner(X_train_prepared, y_train, DecisionTreeClassifier(), \n",
    "                {'max_depth': [1, 2, 3, 4, 5]})"
   ]
  },
  {
   "cell_type": "code",
   "execution_count": 10,
   "metadata": {},
   "outputs": [
    {
     "name": "stdout",
     "output_type": "stream",
     "text": [
      "Fitting 4 folds for each of 7 candidates, totalling 28 fits\n"
     ]
    },
    {
     "name": "stderr",
     "output_type": "stream",
     "text": [
      "[Parallel(n_jobs=-1)]: Done  26 out of  28 | elapsed:    1.5s remaining:    0.1s\n",
      "[Parallel(n_jobs=-1)]: Done  28 out of  28 | elapsed:    1.5s finished\n"
     ]
    },
    {
     "data": {
      "image/png": "[encoded data removed]",
      "text/plain": [
       "<matplotlib.figure.Figure at 0x7f9aae288400>"
      ]
     },
     "metadata": {},
     "output_type": "display_data"
    }
   ],
   "source": [
    "result_df = parameter_tuner(X_train_prepared, y_train, DecisionTreeClassifier(), \n",
    "                {'min_samples_split': [10, 30, 100, 300, 1000, 2000, 3000]})"
   ]
  },
  {
   "cell_type": "code",
   "execution_count": 11,
   "metadata": {},
   "outputs": [
    {
     "name": "stdout",
     "output_type": "stream",
     "text": [
      "Fitting 4 folds for each of 6 candidates, totalling 24 fits\n"
     ]
    },
    {
     "name": "stderr",
     "output_type": "stream",
     "text": [
      "[Parallel(n_jobs=-1)]: Done  18 out of  24 | elapsed:    1.3s remaining:    0.4s\n",
      "[Parallel(n_jobs=-1)]: Done  24 out of  24 | elapsed:    1.7s finished\n"
     ]
    },
    {
     "data": {
      "image/png": "[encoded data removed]",
      "text/plain": [
       "<matplotlib.figure.Figure at 0x7f9aae28d550>"
      ]
     },
     "metadata": {},
     "output_type": "display_data"
    }
   ],
   "source": [
    "result_df = parameter_tuner(X_train_prepared, y_train, DecisionTreeClassifier(), \n",
    "                {'min_samples_leaf': [1, 10, 30, 100, 300, 1000]})"
   ]
  },
  {
   "cell_type": "code",
   "execution_count": 12,
   "metadata": {},
   "outputs": [
    {
     "name": "stdout",
     "output_type": "stream",
     "text": [
      "Fitting 4 folds for each of 6 candidates, totalling 24 fits\n"
     ]
    },
    {
     "name": "stderr",
     "output_type": "stream",
     "text": [
      "[Parallel(n_jobs=-1)]: Done  18 out of  24 | elapsed:    0.7s remaining:    0.2s\n",
      "[Parallel(n_jobs=-1)]: Done  24 out of  24 | elapsed:    0.8s finished\n"
     ]
    },
    {
     "data": {
      "image/png": "[encoded data removed]",
      "text/plain": [
       "<matplotlib.figure.Figure at 0x7f9aafd3b668>"
      ]
     },
     "metadata": {},
     "output_type": "display_data"
    }
   ],
   "source": [
    "result_df = parameter_tuner(X_train_prepared, y_train, DecisionTreeClassifier(), \n",
    "                {'max_leaf_nodes': [2, 3, 10, 30, 100, 300]})"
   ]
  },
  {
   "cell_type": "markdown",
   "metadata": {},
   "source": [
    "The `criterion` has almost no affect on the result and is something we can leave out of our search."
   ]
  },
  {
   "cell_type": "code",
   "execution_count": 13,
   "metadata": {},
   "outputs": [
    {
     "name": "stdout",
     "output_type": "stream",
     "text": [
      "Fitting 4 folds for each of 2 candidates, totalling 8 fits\n"
     ]
    },
    {
     "name": "stderr",
     "output_type": "stream",
     "text": [
      "[Parallel(n_jobs=-1)]: Done   4 out of   8 | elapsed:    1.4s remaining:    1.4s\n",
      "[Parallel(n_jobs=-1)]: Done   8 out of   8 | elapsed:    1.5s finished\n"
     ]
    },
    {
     "data": {
      "image/png": "[encoded data removed]",
      "text/plain": [
       "<matplotlib.figure.Figure at 0x7f9aae2a9cc0>"
      ]
     },
     "metadata": {},
     "output_type": "display_data"
    }
   ],
   "source": [
    "result_df = parameter_tuner(X_train_prepared, y_train, DecisionTreeClassifier(), \n",
    "                {'criterion': ['gini', 'entropy']})"
   ]
  },
  {
   "cell_type": "code",
   "execution_count": 14,
   "metadata": {},
   "outputs": [],
   "source": [
    "from sklearn.metrics import f1_score\n",
    "\n",
    "def random_search_tuner(clf, params, cv=3, scoring=None, n_iter=500):\n",
    "    if not scoring:\n",
    "        scoring = ('f1', f1_score)\n",
    "        \n",
    "    random_search = RandomizedSearchCV(clf, params, cv=cv, scoring=scoring[0], \n",
    "                                       n_jobs=-1, verbose=1, n_iter=n_iter)\n",
    "    random_search.fit(X_train_prepared, y_train)\n",
    "    print(\"Best params: %s\" % random_search.best_params_)\n",
    "    print(\"Train score: %s\" % random_search.best_score_)\n",
    "    \n",
    "    y_test_pred = random_search.best_estimator_.predict(X_test_prepared)\n",
    "    print(\"Test score: %s\" % scoring[1](y_test, y_test_pred))\n",
    "    return random_search.best_estimator_"
   ]
  },
  {
   "cell_type": "code",
   "execution_count": 15,
   "metadata": {},
   "outputs": [
    {
     "name": "stdout",
     "output_type": "stream",
     "text": [
      "Fitting 3 folds for each of 500 candidates, totalling 1500 fits\n"
     ]
    },
    {
     "name": "stderr",
     "output_type": "stream",
     "text": [
      "[Parallel(n_jobs=-1)]: Done  18 tasks      | elapsed:    0.4s\n",
      "[Parallel(n_jobs=-1)]: Done 304 tasks      | elapsed:    3.5s\n",
      "[Parallel(n_jobs=-1)]: Done 804 tasks      | elapsed:    8.5s\n",
      "[Parallel(n_jobs=-1)]: Done 1500 out of 1500 | elapsed:   15.6s finished\n"
     ]
    },
    {
     "name": "stdout",
     "output_type": "stream",
     "text": [
      "Best params: {'max_depth': 3, 'max_leaf_nodes': 27, 'min_samples_leaf': 303, 'min_samples_split': 403}\n",
      "Train score: 0.48613052341\n",
      "Test score: 0.471502590674\n"
     ]
    },
    {
     "data": {
      "text/plain": [
       "DecisionTreeClassifier(class_weight=None, criterion='gini', max_depth=3,\n",
       "            max_features=None, max_leaf_nodes=27,\n",
       "            min_impurity_decrease=0.0, min_impurity_split=None,\n",
       "            min_samples_leaf=303, min_samples_split=403,\n",
       "            min_weight_fraction_leaf=0.0, presort=False, random_state=None,\n",
       "            splitter='best')"
      ]
     },
     "execution_count": 15,
     "metadata": {},
     "output_type": "execute_result"
    }
   ],
   "source": [
    "from sklearn.model_selection import RandomizedSearchCV\n",
    "from scipy.stats import reciprocal, uniform, expon, randint\n",
    "params = {'max_depth': randint(2, 5),\n",
    "        'min_samples_leaf': randint(200, 500),\n",
    "        'min_samples_split': randint(400, 1500),\n",
    "        'max_leaf_nodes': randint(2, 40)}\n",
    "\n",
    "random_search_tuner(DecisionTreeClassifier(), params)"
   ]
  },
  {
   "cell_type": "markdown",
   "metadata": {},
   "source": [
    "Our model has a high score on both training and test sets showing a good fit to the data."
   ]
  },
  {
   "cell_type": "markdown",
   "metadata": {},
   "source": [
    "### Ensemble Learning\n",
    "\n",
    "Make sure to read and understand the documentation for each classifier.\n",
    "\n",
    "Remember to make your code modular; it will save you rewriting the same things multiple times and will help avoid copy paste errors.\n",
    "\n",
    "\n",
    "  \n",
    "- Tune the following classifiers:\n",
    "  - Random forest classfier\n",
    "  - Adaboost Tree classifier\n",
    "  - Extra trees classifier\n",
    "  - Gradient Boosted Tree classifier\n",
    "  - Logistic Regression\n",
    "  \n",
    "- Analyze, compare, and interpret your results\n",
    "- What ensemble yields the best result? Can you identify certain types of events that are classified better/worse from the type of algorithm?\n",
    "- Is the feature importance consistent for all classifiers?"
   ]
  },
  {
   "cell_type": "code",
   "execution_count": 16,
   "metadata": {
    "collapsed": true
   },
   "outputs": [
    {
     "name": "stdout",
     "output_type": "stream",
     "text": [
      "Fitting 3 folds for each of 50 candidates, totalling 150 fits\n"
     ]
    },
    {
     "name": "stderr",
     "output_type": "stream",
     "text": [
      "/home/derek_pyne/anaconda3/lib/python3.6/site-packages/sklearn/metrics/classification.py:1135: UndefinedMetricWarning: F-score is ill-defined and being set to 0.0 due to no predicted samples.\n",
      "  'precision', 'predicted', average, warn_for)\n",
      "/home/derek_pyne/anaconda3/lib/python3.6/site-packages/sklearn/metrics/classification.py:1135: UndefinedMetricWarning: F-score is ill-defined and being set to 0.0 due to no predicted samples.\n",
      "  'precision', 'predicted', average, warn_for)\n",
      "/home/derek_pyne/anaconda3/lib/python3.6/site-packages/sklearn/metrics/classification.py:1135: UndefinedMetricWarning: F-score is ill-defined and being set to 0.0 due to no predicted samples.\n",
      "  'precision', 'predicted', average, warn_for)\n",
      "[Parallel(n_jobs=-1)]: Done  18 tasks      | elapsed:    1.3s\n",
      "[Parallel(n_jobs=-1)]: Done 150 out of 150 | elapsed:   13.5s finished\n"
     ]
    },
    {
     "name": "stdout",
     "output_type": "stream",
     "text": [
      "Best params: {'max_leaf_nodes': 26, 'min_samples_leaf': 205, 'min_samples_split': 657, 'n_estimators': 76}\n",
      "Train score: 0.385632875649\n",
      "Test score: 0.354336545589\n"
     ]
    }
   ],
   "source": [
    "from sklearn.ensemble import RandomForestClassifier\n",
    "\n",
    "params = {'min_samples_leaf': randint(200, 500),\n",
    "          'min_samples_split': randint(50, 1500),\n",
    "          'max_leaf_nodes': randint(2, 40),\n",
    "          'n_estimators': randint(3, 100)}\n",
    "\n",
    "rf_clf = random_search_tuner(RandomForestClassifier(), params, n_iter=50)"
   ]
  },
  {
   "cell_type": "code",
   "execution_count": 17,
   "metadata": {},
   "outputs": [
    {
     "name": "stdout",
     "output_type": "stream",
     "text": [
      "Fitting 3 folds for each of 15 candidates, totalling 45 fits\n"
     ]
    },
    {
     "name": "stderr",
     "output_type": "stream",
     "text": [
      "[Parallel(n_jobs=-1)]: Done  45 out of  45 | elapsed:    9.2s finished\n"
     ]
    },
    {
     "name": "stdout",
     "output_type": "stream",
     "text": [
      "Best params: {'learning_rate': 0.66666696348151122, 'n_estimators': 36}\n",
      "Train score: 0.463384801135\n",
      "Test score: 0.449799196787\n"
     ]
    }
   ],
   "source": [
    "from sklearn.ensemble import AdaBoostClassifier\n",
    "\n",
    "params = {'n_estimators': randint(25, 100),\n",
    "          'learning_rate': uniform(.2, 1.0)}\n",
    "\n",
    "ada_clf = random_search_tuner(AdaBoostClassifier(), params, n_iter=15)"
   ]
  },
  {
   "cell_type": "code",
   "execution_count": null,
   "metadata": {},
   "outputs": [
    {
     "name": "stdout",
     "output_type": "stream",
     "text": [
      "Fitting 3 folds for each of 15 candidates, totalling 45 fits\n"
     ]
    },
    {
     "name": "stderr",
     "output_type": "stream",
     "text": [
      "[Parallel(n_jobs=-1)]: Done  45 out of  45 | elapsed:   20.2s finished\n"
     ]
    },
    {
     "name": "stdout",
     "output_type": "stream",
     "text": [
      "Best params: {'n_estimators': 33}\n",
      "Train score: 0.4581820903\n",
      "Test score: 0.442379182156\n"
     ]
    }
   ],
   "source": [
    "from sklearn.ensemble import ExtraTreesClassifier\n",
    "\n",
    "params = {'n_estimators': randint(5, 40)}\n",
    "etree_clf = random_search_tuner(ExtraTreesClassifier(), params, n_iter=15)"
   ]
  },
  {
   "cell_type": "code",
   "execution_count": null,
   "metadata": {},
   "outputs": [
    {
     "name": "stdout",
     "output_type": "stream",
     "text": [
      "Fitting 3 folds for each of 15 candidates, totalling 45 fits\n"
     ]
    }
   ],
   "source": [
    "from sklearn.ensemble import GradientBoostingClassifier\n",
    "\n",
    "params = {'n_estimators': randint(50, 200),\n",
    "          'learning_rate': uniform(.2, 1.0)}\n",
    "gb_clf = random_search_tuner(GradientBoostingClassifier(), params, n_iter=15)"
   ]
  },
  {
   "cell_type": "code",
   "execution_count": null,
   "metadata": {},
   "outputs": [],
   "source": [
    "from sklearn.linear_model import LogisticRegression\n",
    "\n",
    "params = {'C': uniform(.5, 5)}\n",
    "lr_clf = random_search_tuner(LogisticRegression(), params, n_iter=15)"
   ]
  },
  {
   "cell_type": "markdown",
   "metadata": {},
   "source": [
    "We can compare feature importances across our classifiers. Right away we see that all of our classifiers, except for the `Random Forest`, have relatively similar importances. Our `Random Forest` classifier performed relatively poorly so this might be a sign that it is overfitted these particular features."
   ]
  },
  {
   "cell_type": "code",
   "execution_count": null,
   "metadata": {},
   "outputs": [],
   "source": [
    "clfs = [('Random Forest', rf_clf), \n",
    "        ('AdaBoost', ada_clf), \n",
    "        ('Extra Trees', etree_clf), \n",
    "        ('Gradient Boosted', gb_clf)]\n",
    "\n",
    "pd.DataFrame({c[0]: c[1].feature_importances_ for c in clfs}).plot(figsize=(10, 5))\n",
    "plt.xlabel('Features')\n",
    "plt.ylabel('Importance')\n",
    "plt.title('Feature Importance By Ensemble Classifier')\n",
    "plt.show()"
   ]
  },
  {
   "cell_type": "markdown",
   "metadata": {},
   "source": [
    "- Stack your models.\n",
    " - Combine the models from the previous section using the stacking approach:\n",
    "   - Choose the model use to combine. Examples are:\n",
    "     - Linear Regression\n",
    "     - Logistic Regression"
   ]
  },
  {
   "cell_type": "markdown",
   "metadata": {},
   "source": [
    "We can now stack our models and use a **Logistic Regression** classifier as our metaclassifier. We will tune the regularization parameter of this classifier."
   ]
  },
  {
   "cell_type": "code",
   "execution_count": null,
   "metadata": {},
   "outputs": [],
   "source": [
    "from mlxtend.classifier import StackingClassifier\n",
    "from sklearn.model_selection import cross_val_score\n",
    "from sklearn.metrics import accuracy_score\n",
    "\n",
    "ensemble_clfs = [rf_clf, ada_clf, etree_clf, gb_clf, lr_clf]\n",
    "\n",
    "train_score = []\n",
    "test_score = []\n",
    "params = [.0005, .0006, .0007, .0008, .001, .005, .01, .03]\n",
    "\n",
    "for C in params:\n",
    "    sclf = StackingClassifier(classifiers=ensemble_clfs, \n",
    "                          meta_classifier=LogisticRegression(C=C), \n",
    "                          use_probas=False)\n",
    "\n",
    "    sclf.fit(X_ms_prepared, y_ms)\n",
    "\n",
    "    y_ms_pred = sclf.predict(X_ms_prepared)\n",
    "    train_score.append(f1_score(y_ms, y_ms_pred))\n",
    "    \n",
    "    y_test_pred = sclf.predict(X_test_prepared)\n",
    "    test_score.append(f1_score(y_test, y_test_pred))"
   ]
  },
  {
   "cell_type": "code",
   "execution_count": null,
   "metadata": {},
   "outputs": [],
   "source": [
    "stacking_df = pd.DataFrame({'train_score': train_score, 'test_score': test_score}, index=params)\n",
    "stacking_df"
   ]
  },
  {
   "cell_type": "code",
   "execution_count": null,
   "metadata": {},
   "outputs": [],
   "source": [
    "stacking_df.plot(figsize=(10,5))"
   ]
  },
  {
   "cell_type": "markdown",
   "metadata": {},
   "source": [
    "Here we actually see that our stacking classifier is very hard to control. There is a huge gap between our testing and training scores signifying a model that is strongly overfitting. However, there is very large variation when tuning the regularization parameter making this model not a strong model yet."
   ]
  },
  {
   "cell_type": "markdown",
   "metadata": {},
   "source": [
    "Q. (Optional) If a Decision Tree is overfitting the training set, is it a good idea to try decreasing max_depth?"
   ]
  },
  {
   "cell_type": "markdown",
   "metadata": {},
   "source": [
    "`Yes. If our model is overfitting the training set we want to reduce the variance of the model. Decreasing the max_depth reduces the variance of a Decision Tree`"
   ]
  },
  {
   "cell_type": "markdown",
   "metadata": {},
   "source": [
    "Q. (Optional) If a Decision Tree is underfitting the training set, is it a good idea to try scaling the input features?"
   ]
  },
  {
   "cell_type": "markdown",
   "metadata": {},
   "source": [
    "`Decision Trees do not require scaled input features so this will have no affect. If the model is underfitting the variance/capability of the model needs to be increased.`"
   ]
  },
  {
   "cell_type": "markdown",
   "metadata": {},
   "source": [
    "Q. (Optional) What is the difference between hard and soft voting classifiers?"
   ]
  },
  {
   "cell_type": "markdown",
   "metadata": {},
   "source": [
    "`Hard voting classifiers take the predicted labels from the voting classifiers and simply return the label that receive the most votes. There is no consideration for the probabilites for each label returned by the voting classifiers. Soft voting uses the predicted class probabilities from each classifer and averages these to produce an average predicted probability for each label and makes a final prediction based on this.`"
   ]
  },
  {
   "cell_type": "markdown",
   "metadata": {},
   "source": [
    "Q. (Optional) If your AdaBoost ensemble underfits the training data, what hyperparameters should you tweak and how?"
   ]
  },
  {
   "cell_type": "markdown",
   "metadata": {},
   "source": [
    "`If our AdaBoost ensemble is underfitting we want to increase the variance of the model. In this case that means allowing the algorithm to pay more attention to the misclassified samples in each step as it builds its estimator chain.  This means increasing the learning_rate and increasing the maximum number of estimators allowed.`"
   ]
  },
  {
   "cell_type": "markdown",
   "metadata": {},
   "source": [
    "Q. (Optional) If your Gradient Boosting ensemble overfits the training set, should you increase or decrease the learning rate?"
   ]
  },
  {
   "cell_type": "markdown",
   "metadata": {},
   "source": [
    "`If our Gradient Boosting ensemble is overfitting the training set we should decrease the learning rate to shrink the contribution of additive trees.`"
   ]
  },
  {
   "cell_type": "markdown",
   "metadata": {},
   "source": [
    "### Conclusions\n"
   ]
  },
  {
   "cell_type": "markdown",
   "metadata": {},
   "source": [
    "`We were able to tune a strong Decision Tree classifier and several similarily performing ensemble classifiers. Our stacking classifier strongly overfit the data pushing us to come up with a new strategy here. We might need to increase the proportion of the data that we save for training the stacking classifier but need to measure the affect that this has on our base classifier scores. `\n",
    "\n",
    "`Overall, we see the power behind ensemble classifiers but also the extra difficulty the pose in tuning, interpreting, and generalizing`"
   ]
  },
  {
   "cell_type": "markdown",
   "metadata": {},
   "source": [
    "### Submit your notebook\n",
    "\n",
    "Submit your solution here\n",
    "https://goo.gl/forms/VKD7Zwu54oHjutDc2\n",
    "Make sure you rename your notebook to    \n",
    "W3_UTORid.ipynb    \n",
    "Example W3_adfasd01.ipynb\n"
   ]
  },
  {
   "cell_type": "code",
   "execution_count": null,
   "metadata": {
    "collapsed": true
   },
   "outputs": [],
   "source": []
  }
 ],
 "metadata": {
  "anaconda-cloud": {},
  "kernelspec": {
   "display_name": "Python 3",
   "language": "python",
   "name": "python3"
  },
  "language_info": {
   "codemirror_mode": {
    "name": "ipython",
    "version": 3
   },
   "file_extension": ".py",
   "mimetype": "text/x-python",
   "name": "python",
   "nbconvert_exporter": "python",
   "pygments_lexer": "ipython3",
   "version": "3.7.2"
  }
 },
 "nbformat": 4,
 "nbformat_minor": 2
}
