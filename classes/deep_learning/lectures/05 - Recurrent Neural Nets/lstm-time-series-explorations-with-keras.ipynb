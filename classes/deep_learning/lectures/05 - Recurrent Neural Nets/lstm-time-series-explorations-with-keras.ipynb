{
 "cells": [
  {
   "cell_type": "markdown",
   "metadata": {
    "_cell_guid": "2bf3fef2-aa3d-48be-b776-8478cc3f5178",
    "_uuid": "3993b3b652381086077548529a7868cbb82329cc"
   },
   "source": [
    "# LSTM Time Series Explorations with Keras\n",
    "\n",
    "This is a very short exploration into applying LSTM techniques using the Keras library. Code and content is based on several cool blog posts and papers; see references section for more info.\n",
    "\n",
    "There are further notes on LSTM theory and Keras in an accompanying Slideshare: https://www.slideshare.net/RalphSchlosser/lstm-tutorial\n",
    "\n",
    "**FIXMEs**: \n",
    "* Compare and contrast different parametrizations or architectures.\n",
    "* Consolidate helper functions, simplify.\n",
    "\n",
    "## Example 1: Airline Passenger Data\n",
    " \n",
    "In this example we wish to make forcasts on a  time series of international airline passengers.\n",
    " \n",
    "The time series data forcast can be modeled as a univariate regression-type problem, concretely let ${X_t}$ denote the number of airline passengers in month $t$. Then: \n",
    " \n",
    "$$\n",
    "X_t = f(X_{t-1}, \\Theta)\n",
    "$$\n",
    " \n",
    "which we aim to solve using the a simple LSTM neural network. \n",
    "\n",
    "Here $X_t$ is the number of passengers at time step $t$, $X_{t-1}$ denotes  number of passengers at the previous time step, and $\\Theta$ refers to all the other model parameters, including LSTM hyperparameters.\n",
    "\n",
    "*Note*: For better readability, in the code for this as well as the next example, the predicted new value at time step $t$ is written as `Y`. \n",
    "\n",
    "### Loading and plotting the data"
   ]
  },
  {
   "cell_type": "code",
   "execution_count": null,
   "metadata": {
    "_cell_guid": "dc37e399-005d-4e56-a7e0-d14f2f7ed1c3",
    "_uuid": "d35448b01a7670ccb2960b5da7d61588e0ac3cc0",
    "collapsed": true
   },
   "outputs": [],
   "source": [
    "import math\n",
    "import numpy as np\n",
    "import pandas as pd\n",
    "import matplotlib.pyplot as plt\n",
    "\n",
    "# Original data set retrieved from here:\n",
    "# https://datamarket.com/data/set/22u3/international-airline-passengers-monthly-totals-in-thousands-jan-49-dec-60#!ds=22u3&display=line\n",
    "\n",
    "data = pd.read_csv(\"international-airline-passengers.csv\", \n",
    "                      usecols = [1], \n",
    "                      engine = \"python\", \n",
    "                      skipfooter = 3)\n"
   ]
  },
  {
   "cell_type": "code",
   "execution_count": null,
   "metadata": {
    "_cell_guid": "e9dceec9-c039-4878-8783-d81817ff3894",
    "_uuid": "84246ef211abe2a498b1731fc73f4db89942e012"
   },
   "outputs": [],
   "source": [
    "# Print some data rows.\n",
    "data.head()"
   ]
  },
  {
   "cell_type": "markdown",
   "metadata": {
    "_uuid": "fc6779087bacb9b2b235c14ab44f26022fbcf871"
   },
   "source": [
    "Here, we have a univariate data set which records the number of airline passengers for each month.\n",
    "\n",
    "Let's now plot the time series of the data in order to get some ideas about underlying trends, seasonality etc."
   ]
  },
  {
   "cell_type": "code",
   "execution_count": null,
   "metadata": {
    "_cell_guid": "24c80b53-b571-4100-beb8-b491f8130961",
    "_uuid": "d14336e4ca3b5890b8cc7ab8b214e83e35a9a38f"
   },
   "outputs": [],
   "source": [
    "# Create a time series plot.\n",
    "plt.figure(figsize = (15, 5))\n",
    "plt.plot(data, label = \"Airline Passengers\")\n",
    "plt.xlabel(\"Months\")\n",
    "plt.ylabel(\"1000 International Airline Passengers\")\n",
    "plt.title(\"Monthly Total Airline Passengers 1949 - 1960\")\n",
    "plt.legend()\n",
    "plt.show()"
   ]
  },
  {
   "cell_type": "markdown",
   "metadata": {
    "_uuid": "b6ce82607f550031d9400df4d74c88ecadcbef55"
   },
   "source": [
    "In general we can observe a strong upwards trend in terms of numbers of passgengers with some seasonality component. The seasonality may be understood to conincide with holiday periods, but we'd need to have a closer look at the actual time periods to confirm this.\n",
    "\n",
    "We could also consider de-trending the time series and applying further \"cleaning\" techniques, which would be a prerequisite e.g. in an *ARIMA* setting.\n",
    "\n",
    "However, for simplicity reasons we will just proceed with the data as is.\n",
    "\n",
    "The only transformations we'll be doing are:\n",
    "\n",
    "* Scale data to the $(0, 1)$ interval for increased numerical stability.\n",
    "* Re-shape the data so we have one column as **response** (called $Y$ in the code) and another one as **predictor** variable (called $X in the code)."
   ]
  },
  {
   "cell_type": "markdown",
   "metadata": {
    "_cell_guid": "cc49f77c-1161-4278-b1ce-6c582db8d5d3",
    "_uuid": "0241395457e89d54254c50cd3ab75a7e3e2bbccf"
   },
   "source": [
    "### Building the LSTM model\n"
   ]
  },
  {
   "cell_type": "code",
   "execution_count": null,
   "metadata": {
    "_cell_guid": "0db37933-7393-497e-a588-48ce08fbc941",
    "_uuid": "1d74c91ec1bbaaee05dc38d21d8b385e5c4ac6d5"
   },
   "outputs": [],
   "source": [
    "# Let's load the required libs.\n",
    "# We'll be using the Tensorflow backend (default).\n",
    "from keras.models import Sequential\n",
    "from keras.layers.recurrent import LSTM\n",
    "from keras.layers.core import Dense, Activation, Dropout\n",
    "from sklearn.preprocessing import MinMaxScaler\n",
    "from sklearn.metrics import mean_squared_error\n",
    "from sklearn.utils import shuffle"
   ]
  },
  {
   "cell_type": "markdown",
   "metadata": {
    "_cell_guid": "55066a9e-44c7-4fc8-b783-d527cf527bb0",
    "_uuid": "2a813223d3413e80b900e9f4abc9d07c21eb1e3f"
   },
   "source": [
    "#### Data preparation"
   ]
  },
  {
   "cell_type": "code",
   "execution_count": null,
   "metadata": {
    "_cell_guid": "c009c934-95e7-4bf2-ad33-ed57e30184bd",
    "_uuid": "7411c5d1ef6e2720b8eeb880e76580f127a3706e"
   },
   "outputs": [],
   "source": [
    "# Get the raw data values from the pandas data frame.\n",
    "data_raw = data.values.astype(\"float32\")\n",
    "\n",
    "# We apply the MinMax scaler from sklearn\n",
    "# to normalize data in the (0, 1) interval.\n",
    "scaler = MinMaxScaler(feature_range = (0, 1))\n",
    "dataset = scaler.fit_transform(data_raw)\n",
    "\n",
    "# Print a few values.\n",
    "dataset[0:5]"
   ]
  },
  {
   "cell_type": "markdown",
   "metadata": {
    "_cell_guid": "c529a917-e0c6-4e31-90f0-82c5ebda805c",
    "_uuid": "9b6e074719bee31714d432996c6d6374cae92d80"
   },
   "source": [
    "#### Split into test / training data\n",
    "\n",
    "As usual, the data gets split into training and test data so we can later assess how well the final model performs. \n",
    "\n",
    "Again, this could be much improved, e.g. using CV and more sophisticated steps to select the \"best\" model."
   ]
  },
  {
   "cell_type": "code",
   "execution_count": null,
   "metadata": {
    "_cell_guid": "9a1fc345-2aca-4629-bece-be984d02cc22",
    "_uuid": "8d5687ded354b39d1d5b281a8129d451d4d6db90"
   },
   "outputs": [],
   "source": [
    "# Using 60% of data for training, 40% for validation.\n",
    "TRAIN_SIZE = 0.60\n",
    "\n",
    "train_size = int(len(dataset) * TRAIN_SIZE)\n",
    "test_size = len(dataset) - train_size\n",
    "train, test = dataset[0:train_size, :], dataset[train_size:len(dataset), :]\n",
    "print(\"Number of entries (training set, test set): \" + str((len(train), len(test))))\n"
   ]
  },
  {
   "cell_type": "markdown",
   "metadata": {
    "_cell_guid": "45890bc5-05c0-49a1-bb50-19e0c8ad359e",
    "_uuid": "c45c32008309f0e92edc6da7d70e0c68080902cc"
   },
   "source": [
    "#### Get data into shape to use in Keras"
   ]
  },
  {
   "cell_type": "code",
   "execution_count": null,
   "metadata": {
    "_cell_guid": "19bc3b63-c65e-4c2c-8c2d-661a5a988df9",
    "_uuid": "6aa6e8291b129f2ab7e3568cb1cae07a692efb4c",
    "collapsed": true
   },
   "outputs": [],
   "source": [
    "# FIXME: This helper function should be rewritten using numpy's shift function. See below.\n",
    "def create_dataset(dataset, window_size = 1):\n",
    "    data_X, data_Y = [], []\n",
    "    for i in range(len(dataset) - window_size - 1):\n",
    "        a = dataset[i:(i + window_size), 0]\n",
    "        data_X.append(a)\n",
    "        data_Y.append(dataset[i + window_size, 0])\n",
    "    return(np.array(data_X), np.array(data_Y))"
   ]
  },
  {
   "cell_type": "code",
   "execution_count": null,
   "metadata": {
    "_cell_guid": "a5a0c704-fb34-4340-846b-f84ac457ddb3",
    "_uuid": "f8b3f24ce79bdbfe7aa17b4a77cfe28bf0f592b7"
   },
   "outputs": [],
   "source": [
    "# Create test and training sets for one-step-ahead regression.\n",
    "window_size = 1\n",
    "train_X, train_Y = create_dataset(train, window_size)\n",
    "test_X, test_Y = create_dataset(test, window_size)\n",
    "print(\"Original training data shape:\")\n",
    "print(train_X.shape)\n",
    "\n",
    "# Reshape the input data into appropriate form for Keras.\n",
    "train_X = np.reshape(train_X, (train_X.shape[0], 1, train_X.shape[1]))\n",
    "test_X = np.reshape(test_X, (test_X.shape[0], 1, test_X.shape[1]))\n",
    "print(\"New training data shape:\")\n",
    "print(train_X.shape)"
   ]
  },
  {
   "cell_type": "markdown",
   "metadata": {
    "_cell_guid": "1799b1b6-08d5-43c3-bbc1-fc3071b03115",
    "_uuid": "27709b277916cd5dfa883e76a9ec32414df36c0e"
   },
   "source": [
    "#### Build simple LSTM model on training data\n",
    "\n",
    "The LSTM architecture here consists of:\n",
    "\n",
    "* One input layer.\n",
    "* One LSTM layer of 4 blocks.\n",
    "* One `Dense` layer to produce a single output.\n",
    "* Use MSE as loss function.\n",
    "\n",
    "Many different architectures could be considered. But this is just a quick test, so we'll keep things nice and simple."
   ]
  },
  {
   "cell_type": "code",
   "execution_count": null,
   "metadata": {
    "_cell_guid": "98db98ae-0354-4a97-9dcf-d1ed69929c09",
    "_uuid": "55261632a34b1edc494392bfff6157cd9be6ae6e"
   },
   "outputs": [],
   "source": [
    "def fit_model(train_X, train_Y, window_size = 1):\n",
    "    model = Sequential()\n",
    "    \n",
    "    model.add(LSTM(4, \n",
    "                   input_shape = (1, window_size)))\n",
    "    model.add(Dense(1))\n",
    "    model.compile(loss = \"mean_squared_error\", \n",
    "                  optimizer = \"adam\")\n",
    "    model.fit(train_X, \n",
    "              train_Y, \n",
    "              epochs = 100, \n",
    "              batch_size = 1, \n",
    "              verbose = 2)\n",
    "    \n",
    "    return(model)\n",
    "\n",
    "# Fit the first model.\n",
    "model1 = fit_model(train_X, train_Y, window_size)"
   ]
  },
  {
   "cell_type": "markdown",
   "metadata": {
    "_cell_guid": "9c78c805-c5d9-4859-920a-6c857d9f88f4",
    "_uuid": "cc83baa3cf6ee0a18b9c0809469f04715aba5e3a",
    "collapsed": true
   },
   "source": [
    "### Results\n",
    "#### Predictions and model evaluation\n",
    "\n",
    "As can be seen below, already the simple model performs not too poorly. The advantage of using the RMSE is that it's in the same unit as the original data, i.e. 1.000 passengers / month."
   ]
  },
  {
   "cell_type": "code",
   "execution_count": null,
   "metadata": {
    "_cell_guid": "d5fb618e-5319-435c-a5fa-dae9f1209658",
    "_uuid": "536a96d4ee8a8d545ddee3c4feb92a430b27375e"
   },
   "outputs": [],
   "source": [
    "def predict_and_score(model, X, Y):\n",
    "    # Make predictions on the original scale of the data.\n",
    "    pred = scaler.inverse_transform(model.predict(X))\n",
    "    # Prepare Y data to also be on the original scale for interpretability.\n",
    "    orig_data = scaler.inverse_transform([Y])\n",
    "    # Calculate RMSE.\n",
    "    score = math.sqrt(mean_squared_error(orig_data[0], pred[:, 0]))\n",
    "    return(score, pred)\n",
    "\n",
    "rmse_train, train_predict = predict_and_score(model1, train_X, train_Y)\n",
    "rmse_test, test_predict = predict_and_score(model1, test_X, test_Y)\n",
    "\n",
    "print(\"Training data score: %.2f RMSE\" % rmse_train)\n",
    "print(\"Test data score: %.2f RMSE\" % rmse_test)"
   ]
  },
  {
   "cell_type": "markdown",
   "metadata": {
    "_cell_guid": "253ff729-8a09-49bc-b9fe-ed09fc9f2aa3",
    "_uuid": "40b3c80a32292376b92500c4be0658b8d7ebd5eb"
   },
   "source": [
    "#### Plotting original data, predictions, and forecast\n",
    "\n",
    "With a plot we can compare the predicted vs. actual passenger figures."
   ]
  },
  {
   "cell_type": "code",
   "execution_count": null,
   "metadata": {
    "_cell_guid": "9cf786eb-9b85-45c6-adf5-2f52a3950007",
    "_uuid": "b1a73da9fc4bfede19560d3a7c2c0d53a8913e9b"
   },
   "outputs": [],
   "source": [
    "# Start with training predictions.\n",
    "train_predict_plot = np.empty_like(dataset)\n",
    "train_predict_plot[:, :] = np.nan\n",
    "train_predict_plot[window_size:len(train_predict) + window_size, :] = train_predict\n",
    "\n",
    "# Add test predictions.\n",
    "test_predict_plot = np.empty_like(dataset)\n",
    "test_predict_plot[:, :] = np.nan\n",
    "test_predict_plot[len(train_predict) + (window_size * 2) + 1:len(dataset) - 1, :] = test_predict\n",
    "\n",
    "# Create the plot.\n",
    "plt.figure(figsize = (15, 5))\n",
    "plt.plot(scaler.inverse_transform(dataset), label = \"True value\")\n",
    "plt.plot(train_predict_plot, label = \"Training set prediction\")\n",
    "plt.plot(test_predict_plot, label = \"Test set prediction\")\n",
    "plt.xlabel(\"Months\")\n",
    "plt.ylabel(\"1000 International Airline Passengers\")\n",
    "plt.title(\"Comparison true vs. predicted training / test\")\n",
    "plt.legend()\n",
    "plt.show()\n"
   ]
  },
  {
   "cell_type": "markdown",
   "metadata": {
    "_cell_guid": "7f8e8922-d80d-4331-91f3-ec02a7f329a4",
    "_uuid": "fe590e5470c6629f41daa66248ec769f070d3498"
   },
   "source": [
    "### Next steps and things to explore\n",
    "\n",
    "* Work with de-trended, stationary time series. Does it improve performance?\n",
    "* Different window size (multiple regression). See Example 2.\n",
    "* LSTM architecture, i.e. more layers, neurons etc.\n",
    "* Impact of various hyperparameters in LSTM network on prediction accuracy.\n",
    "* Model selection steps to find the \"best\" model."
   ]
  },
  {
   "cell_type": "markdown",
   "metadata": {
    "_cell_guid": "700f8156-04a3-4edc-bf98-48f620347346",
    "_uuid": "3c88dfec08345701e4141bce69cd9529cbace6d6"
   },
   "source": [
    "## Example 2: Sinus wave data\n",
    "\n",
    "For the second example, we'll generate synthetic data from a sinus curve, i.e.: $y = sin(x)$.\n",
    "\n",
    "Unlike in the example above, now we'll build a *multiple regression* model where we treat a range of input values at previous time steps as inputs for predicting the output value at the next time step. \n",
    "\n",
    "The number of previous time steps is called the *window size*. In the below we'll be using a window size of $50$, i.e.: \n",
    "\n",
    "$$\n",
    "X_t = f(X_{t-1}, X_{t-2}, ..., X_{t-50}, \\Theta)\n",
    "$$\n",
    "\n",
    "### Generating and plotting the data"
   ]
  },
  {
   "cell_type": "code",
   "execution_count": null,
   "metadata": {
    "_cell_guid": "83f38358-feb8-4dee-a23a-06762c4e818b",
    "_uuid": "c01f9c7562a147b1ae4a10c21a2a640570db4b96"
   },
   "outputs": [],
   "source": [
    "SAMPLES = 5000\n",
    "PERIOD = 50\n",
    "x = np.linspace(-PERIOD * np.pi, PERIOD * np.pi, SAMPLES)\n",
    "series = pd.DataFrame(np.sin(x))\n",
    "\n",
    "full_period = PERIOD*10\n",
    "plt.figure(figsize = (15, 5))\n",
    "plt.plot(series.values[:full_period])\n",
    "plt.xlabel(\"x\")\n",
    "plt.ylabel(\"y\")\n",
    "plt.title(\"y = sin(x), first %d samples\" % full_period)\n",
    "plt.show()"
   ]
  },
  {
   "cell_type": "markdown",
   "metadata": {
    "_cell_guid": "70577389-17e7-4782-9a53-0359b3891c01",
    "_uuid": "b645cacafe51c5d06f68a93514349be2048e8926",
    "collapsed": true
   },
   "source": [
    "### Building the LSTM model\n",
    "\n",
    "#### Data preparation\n",
    "\n",
    "First, we'll demonstrate the sliding window principle using a window size of 1; subsequently we'll move on to window size 50."
   ]
  },
  {
   "cell_type": "code",
   "execution_count": null,
   "metadata": {
    "_cell_guid": "580128d7-dd4e-4dcb-aff3-7f7ce7e38db5",
    "_uuid": "2b7915dd67ff6d04500a62578201b31e85a01cbe"
   },
   "outputs": [],
   "source": [
    "# Normalize data on the (-1, 1) interval.\n",
    "scaler = MinMaxScaler(feature_range = (-1, 1))\n",
    "scaled = scaler.fit_transform(series.values)\n",
    "\n",
    "# Convert to data frame.\n",
    "series = pd.DataFrame(scaled)\n",
    "\n",
    "# Helper function to create a windowed data set.\n",
    "# FIXME: Copying & overwriting is flawed!\n",
    "def create_window(data, window_size = 1):    \n",
    "    data_s = data.copy()\n",
    "    for i in range(window_size):\n",
    "        data = pd.concat([data, data_s.shift(-(i + 1))], \n",
    "                            axis = 1)\n",
    "        \n",
    "    data.dropna(axis=0, inplace=True)\n",
    "    return(data)\n",
    "\n",
    "# FIXME: We'll use this only for demonstration purposes.\n",
    "series_backup = series.copy()\n",
    "t = create_window(series_backup, 1)\n",
    "t.head()"
   ]
  },
  {
   "cell_type": "code",
   "execution_count": null,
   "metadata": {
    "_cell_guid": "67f61c0d-f79f-4247-afe2-9eaf810c0f47",
    "_uuid": "fdb80a276d5eacf66a1f8ad22aa5deec2658bf09"
   },
   "outputs": [],
   "source": [
    "window_size = 50\n",
    "series = create_window(series, window_size)\n",
    "print(\"Shape of input data:\")\n",
    "print(series.shape)"
   ]
  },
  {
   "cell_type": "markdown",
   "metadata": {
    "_cell_guid": "22ca1c63-59bd-489d-bfad-bda3224840e6",
    "_uuid": "d2d2ecb61d8d619174514914ee15bb359914290d",
    "collapsed": true
   },
   "source": [
    "#### Split into training / test set"
   ]
  },
  {
   "cell_type": "code",
   "execution_count": null,
   "metadata": {
    "_cell_guid": "ca7b490f-7855-4303-b472-13d4f1be0fe1",
    "_uuid": "ca922bf0de20c38faa37f63c101db2aa384e9577"
   },
   "outputs": [],
   "source": [
    "# Using 80% of data for training, 20% for validation.\n",
    "# FIXME: Need to align with example 1.\n",
    "TRAIN_SIZE = 0.80\n",
    "\n",
    "nrow = round(TRAIN_SIZE * series.shape[0])\n",
    "\n",
    "train = series.iloc[:nrow, :]\n",
    "test = series.iloc[nrow:, :]\n",
    "\n",
    "# Shuffle training data.\n",
    "train = shuffle(train)\n",
    "\n",
    "train_X = train.iloc[:, :-1]\n",
    "test_X = test.iloc[:, :-1]\n",
    "\n",
    "train_Y = train.iloc[:, -1]\n",
    "test_Y = test.iloc[:, -1]\n",
    "\n",
    "print(\"Training set shape for X (inputs):\")\n",
    "print(train_X.shape)\n",
    "print(\"Training set shape for Y (output):\")\n",
    "print(train_Y.shape)"
   ]
  },
  {
   "cell_type": "markdown",
   "metadata": {
    "_cell_guid": "d9681858-fbfe-4afe-a830-b3699ad7b9f1",
    "_uuid": "5183fd396b809b3f9be203c18fd11cd51499564a"
   },
   "source": [
    "#### Get data into shape to use in Keras"
   ]
  },
  {
   "cell_type": "code",
   "execution_count": null,
   "metadata": {
    "_cell_guid": "c06b4528-1e99-4b61-b91c-735263ba50fa",
    "_uuid": "da406773e846f2cd49f8fc3cb4b94110c3f60277"
   },
   "outputs": [],
   "source": [
    "train_X = np.reshape(train_X.values, (train_X.shape[0], train_X.shape[1], 1))\n",
    "test_X = np.reshape(test_X.values, (test_X.shape[0], test_X.shape[1], 1))\n",
    "\n",
    "print(train_X.shape)\n",
    "print(test_X.shape)"
   ]
  },
  {
   "cell_type": "markdown",
   "metadata": {
    "_cell_guid": "f6697322-f26b-4d3a-8e08-5fe35d2b0d5a",
    "_uuid": "893be6aa05eeeb46994dfdbde0b735d3eed6a5b4",
    "collapsed": true
   },
   "source": [
    "#### Build LSTM model on training data\n",
    "\n",
    "The model architecture used here is slightly more complex. Its elements are:\n",
    "\n",
    "* LSTM input layer with 50 units.\n",
    "* `Dropout` layer to prevent overfitting (see: http://www.cs.toronto.edu/~rsalakhu/papers/srivastava14a.pdf).\n",
    "* A second LSTM layer with 256 units.\n",
    "* A further `Dropout` layer.\n",
    "* A `Dense` layer to produce a single output.\n",
    "* Use MSE as loss function."
   ]
  },
  {
   "cell_type": "code",
   "execution_count": null,
   "metadata": {
    "_cell_guid": "795d81d7-6f24-41a4-ae03-4cf9652429a2",
    "_uuid": "cebacf0242644934099cef4114eef0dfc5a49ea3"
   },
   "outputs": [],
   "source": [
    "# Define the model.\n",
    "model2 = Sequential()\n",
    "model2.add(LSTM(input_shape = (window_size, 1), \n",
    "               units = window_size, \n",
    "               return_sequences = True))\n",
    "model2.add(Dropout(0.5))\n",
    "model2.add(LSTM(256))\n",
    "model2.add(Dropout(0.5))\n",
    "model2.add(Dense(1))\n",
    "model2.add(Activation(\"linear\"))\n",
    "model2.compile(loss = \"mse\", \n",
    "              optimizer = \"adam\")\n",
    "model2.summary()"
   ]
  },
  {
   "cell_type": "markdown",
   "metadata": {
    "_cell_guid": "c51c2671-c755-48e6-9573-3b85532f83a5",
    "_uuid": "d231651048927dd860f59b88c5a90884b5327c35",
    "collapsed": true
   },
   "source": [
    "### Results\n",
    "#### Predictions and model evaluation"
   ]
  },
  {
   "cell_type": "code",
   "execution_count": null,
   "metadata": {
    "_cell_guid": "2fb4eb15-f96d-4e3c-b647-0562b8a5de54",
    "_uuid": "3ccb8cc842a54471415516ca188e23d323242b77"
   },
   "outputs": [],
   "source": [
    "# Fit the model.\n",
    "model2.fit(train_X, \n",
    "          train_Y, \n",
    "          batch_size = 512,\n",
    "          epochs = 3,\n",
    "          validation_split = 0.1)"
   ]
  },
  {
   "cell_type": "code",
   "execution_count": null,
   "metadata": {
    "_cell_guid": "41990e5a-0e13-4882-9b9e-131b2749b8bd",
    "_uuid": "c9c421fca666a7af1efd18007df1116736f60b09"
   },
   "outputs": [],
   "source": [
    "# Predict on test data.\n",
    "pred_test = model2.predict(test_X)\n",
    "\n",
    "# Apply inverse transformation to get back true values.\n",
    "test_y_actual = scaler.inverse_transform(test_Y.values.reshape(test_Y.shape[0], 1))\n",
    "\n",
    "print(\"MSE for predicted test set: %2f\" % mean_squared_error(test_y_actual, pred_test))\n",
    "\n",
    "plt.figure(figsize = (15, 5))\n",
    "plt.plot(test_y_actual, label=\"True value\")\n",
    "plt.plot(pred_test, label=\"Predicted value\")\n",
    "plt.xlabel(\"x\")\n",
    "plt.ylabel(\"sin(x)\")\n",
    "plt.title(\"Comparison true vs. predicted test set\")\n",
    "plt.legend()\n",
    "plt.show()"
   ]
  },
  {
   "cell_type": "markdown",
   "metadata": {
    "_cell_guid": "8f02ed89-57d0-40fc-8ea1-140451dcce4b",
    "_uuid": "25e30556550cf544101872f0486084f25b05bd68"
   },
   "source": [
    "### Next steps and things to explore\n",
    "\n",
    "* Should clean up first before doing anything else! ;)\n"
   ]
  },
  {
   "cell_type": "markdown",
   "metadata": {
    "_cell_guid": "52295f64-fb0d-4c32-9c58-61bb475606d1",
    "_uuid": "c1cd34b451a42ff06d6c69c3af900aa1b799c722"
   },
   "source": [
    "## References and links\n",
    "\n",
    "* Example 1 source code adapted from here: https://machinelearningmastery.com/time-series-prediction-lstm-recurrent-neural-networks-python-keras/\n",
    "* Another great post: https://towardsdatascience.com/using-lstms-to-forecast-time-series-4ab688386b1f\n",
    "* Example 2 code adapted from the above: https://github.com/kmsravindra/ML-AI-experiments/tree/master/AI/LSTM-time_series\n",
    "* Good paper comparing different time series modeling techniques, including LSTM: https://arxiv.org/pdf/1705.09137.pdf\n",
    "* Another excellent paper: https://arxiv.org/pdf/1705.05690.pdf\n",
    "* Brilliant LSTM course by Nando de Freitas: https://www.youtube.com/watch?v=56TYLaQN4N8\n"
   ]
  }
 ],
 "metadata": {
  "kernelspec": {
   "display_name": "Python [conda env:faster-rcnn]",
   "language": "python",
   "name": "conda-env-faster-rcnn-py"
  },
  "language_info": {
   "codemirror_mode": {
    "name": "ipython",
    "version": 3
   },
   "file_extension": ".py",
   "mimetype": "text/x-python",
   "name": "python",
   "nbconvert_exporter": "python",
   "pygments_lexer": "ipython3",
   "version": "3.6.3"
  }
 },
 "nbformat": 4,
 "nbformat_minor": 1
}
