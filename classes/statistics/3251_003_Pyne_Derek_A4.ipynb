{
 "cells": [
  {
   "cell_type": "markdown",
   "metadata": {},
   "source": [
    "# Assignment 4: Derek Pyne"
   ]
  },
  {
   "cell_type": "markdown",
   "metadata": {},
   "source": [
    "•Section 6.5 of the textbook covers how simulation can assist when one of the assumptions / requirements of the Chi-Square distribution are not met.\n",
    "\n",
    "The example in the book works out how simulation can assist when the sample size in one of the bins is below 5, one of the requirements for the chi-square test to work.  A bin below five will make the underlying assumption of normality of the original variable to fail, thus the chi-square result will be flawed.  The simulation piece of the exercise is 6.5.2 Generating the null distribution and p-value by simulation.\n",
    "\n",
    "•The text goes through a step by step explanation.  After the simulation, you can verify the number using the binomial distribution (one line of code).\n",
    "\n",
    "•The assignment is to follow the steps using Python.  Results are given so you will now if you are in the right direction."
   ]
  },
  {
   "cell_type": "code",
   "execution_count": 1,
   "metadata": {
    "collapsed": true
   },
   "outputs": [],
   "source": [
    "import random as rd\n",
    "import numpy as np\n",
    "import pandas as pd\n",
    "import seaborn as sns\n",
    "import scipy.stats as stats\n",
    "%matplotlib inline"
   ]
  },
  {
   "cell_type": "markdown",
   "metadata": {},
   "source": [
    "The average complication rate for liver donor surgeries is 10% in the US. We have a US physician here who is claiming that her facility is significantly safer then this average with only 3 complications in 62 surgeries.\n",
    "\n",
    "Let's check this statement with a simulation.\n",
    "\n",
    "We setup the simulation by defining a function that randomly performs $n$ trials with a $p$ probability of failure. The proportion of failures is then returned. We then run this simulation a large number of times and look at the resulting distribution."
   ]
  },
  {
   "cell_type": "code",
   "execution_count": 2,
   "metadata": {
    "collapsed": true
   },
   "outputs": [],
   "source": [
    "n_of_trials = 62\n",
    "p_of_failure = 0.1\n",
    "def complicationSimulation(n, p):\n",
    "    simulated_outcomes = np.array([rd.random() for _ in range(n)])\n",
    "    return sum(simulated_outcomes < p) * 1.0 / len(simulated_outcomes)\n",
    "\n",
    "sim_p_values = pd.DataFrame({'p_sim': [complicationSimulation(n_of_trials, p_of_failure) for _ in range(100000)]})"
   ]
  },
  {
   "cell_type": "code",
   "execution_count": 3,
   "metadata": {},
   "outputs": [
    {
     "data": {
      "text/plain": [
       "array([[<matplotlib.axes._subplots.AxesSubplot object at 0x1045d8e10>]], dtype=object)"
      ]
     },
     "execution_count": 3,
     "metadata": {},
     "output_type": "execute_result"
    },
    {
     "data": {
      "image/png": "[encoded data removed]",
      "text/plain": [
       "<matplotlib.figure.Figure at 0x108c83fd0>"
      ]
     },
     "metadata": {},
     "output_type": "display_data"
    }
   ],
   "source": [
    "sim_p_values.hist(bins = 15)"
   ]
  },
  {
   "cell_type": "markdown",
   "metadata": {},
   "source": [
    "We can then determine the p-value for this claim by finding the proportion of outcomes to the left of the physicians complication rate of $3/62$."
   ]
  },
  {
   "cell_type": "code",
   "execution_count": 4,
   "metadata": {},
   "outputs": [
    {
     "name": "stdout",
     "output_type": "stream",
     "text": [
      "P-value: 0.12313\n"
     ]
    }
   ],
   "source": [
    "print('P-value: %s' % (sum(sim_p_values['p_sim'] <= (3.0/62)) * 1.0 / len(sim_p_values)))"
   ]
  },
  {
   "cell_type": "markdown",
   "metadata": {},
   "source": [
    "We can check compare our simulated value with a calculated value using a binomial distribution."
   ]
  },
  {
   "cell_type": "code",
   "execution_count": 5,
   "metadata": {},
   "outputs": [
    {
     "name": "stdout",
     "output_type": "stream",
     "text": [
      "P-value: 0.120978726746\n"
     ]
    }
   ],
   "source": [
    "print('P-value: %s' % (stats.binom(62,.1).cdf(3)))"
   ]
  },
  {
   "cell_type": "markdown",
   "metadata": {},
   "source": [
    "Since this p-value is larger then the significance level of 0.05 we do not reject the null hypothesis."
   ]
  }
 ],
 "metadata": {
  "hide_input": false,
  "kernelspec": {
   "display_name": "Python 3",
   "language": "python",
   "name": "python3"
  },
  "language_info": {
   "codemirror_mode": {
    "name": "ipython",
    "version": 3
   },
   "file_extension": ".py",
   "mimetype": "text/x-python",
   "name": "python",
   "nbconvert_exporter": "python",
   "pygments_lexer": "ipython3",
   "version": "3.7.2"
  }
 },
 "nbformat": 4,
 "nbformat_minor": 2
}
