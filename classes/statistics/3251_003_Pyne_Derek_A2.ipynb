{
 "cells": [
  {
   "cell_type": "markdown",
   "metadata": {},
   "source": [
    "# SCS-3251-002: Statistics for Data Science\n",
    "\n",
    "### Assignment #2\n",
    "\n",
    "```\n",
    "• Submit answers to OpenIntro Statistics 3rd Edition Question 2.40. (The question can be found at the end of the chapter. Show how you determined your answers).\n",
    "We will show a proposed solution for 2.34.\n",
    "```"
   ]
  },
  {
   "cell_type": "markdown",
   "metadata": {},
   "source": [
    "# 2.34 Ace of clubs wins. \n",
    "Consider the following card game with a well-shuffled deck of cards. If you draw a red card, you win nothing. If you get a spade, you win \\$5. For any club, you win \\$10 plus an **extra \\$20 for the ace of clubs**.\n",
    "* (a) Create a probability model for the amount you win at this game. Also, find the expected winnings for a single game and the standard deviation of the winnings.\n",
    "* (b) What is the maximum amount you would be willing to pay to play this game? Explain your reasoning."
   ]
  },
  {
   "cell_type": "markdown",
   "metadata": {},
   "source": [
    "**2.34 Solution:**\n",
    "\n",
    "**Probability Model**\n",
    "\n",
    "___\n",
    "|For Each Outcome Of The Game$$(i)$$|Red Card|Spade|Clubs Without Ace |Ace of Clubs|Total|\n",
    "|:---|---:|---:|---:|---:|---:|\n",
    "|Prize$$x_i$$|\\$0|\\$5|\\$10|\\$30||\n",
    "|Probability$$P(X=x_i)$$|26/52|13/52|12/52|1/52||\n",
    "|Expected Value $${x_i P(X=x_i)}$$|0\\*26/52|5\\*13/52|10\\*12/52|30\\*1/52|\\$4.14|\n",
    "|$${(x_i-\\mu)^2 P(X=x_i)}$$|8.5475|0.1872|7.9390|12.8657|29.5396|\n",
    "___\n",
    "\n",
    "Average Expetcted Value E(X) or $\\mu=E(X)=\\sum_{i=1}^{k}{x_i P(X=x_i)}$ = \\$4.14\n",
    "\n",
    "Variance Var(X) or $\\sigma^2= \\sum_{i=1}^{k}{(x_i-\\mu)^2 P(X=x_i)}$ = 29.5396\n",
    "\n",
    "**Ans (a)**\n",
    "* Expected Winnings for single game $\\mu$ = \\$4.14 \n",
    "* Standard Deviation $\\sigma = \\sqrt{Var(X)}$ = \\$5.44\n",
    "\n",
    "**Ans (b)**\n",
    "* I will be willing to pay at the most \\$2.00 because:\n",
    "    1. It has to be less then expected winnings for a single game. \n",
    "    2. Expecting doubling of the money to take the risk of loosing it is reasonable.\n",
    "   \n"
   ]
  },
  {
   "cell_type": "code",
   "execution_count": 110,
   "metadata": {},
   "outputs": [
    {
     "name": "stdout",
     "output_type": "stream",
     "text": [
      "Average Expected Value: 4.134615384615385\n",
      "(X[i] - m)**2*P[i]: [  8.54752219   0.18722263   7.93909308  12.8657331 ]\n",
      "Variance:  29.5395710059\n",
      "STD: 5.43503183118\n"
     ]
    }
   ],
   "source": [
    "# 2.34 Calculations\n",
    "import numpy as np\n",
    "P = [26.0/52, 13.0/52, 12.0/52, 1.0/52]\n",
    "X = [0.0, 5.0, 10.0, 30.0]\n",
    "\n",
    "m = 0\n",
    "for i in range(len(X)):\n",
    "    m = m + X[i]*P[i];\n",
    "print('Average Expected Value:',m)\n",
    "\n",
    "V = np.array([0.0,0.0,0.0,0.0])\n",
    "for i in range(len(X)):\n",
    "    V[i] = (X[i] - m)**2*P[i];  \n",
    "print('(X[i] - m)**2*P[i]:', V)\n",
    "print('Variance: ', V.sum())\n",
    "print('STD:', V.sum()**(1/2.0))"
   ]
  },
  {
   "cell_type": "markdown",
   "metadata": {},
   "source": [
    "# 2.40 European roulette\n",
    "The game of European roulette involves spinning a wheel with 37 slots: 18 red, 18 black, and 1 green. A ball is spun onto the wheel and will eventually land in a slot, where each slot has an equal chance of capturing the ball. Gamblers can place bets on red or black. If the ball lands on their color, they double their money. If it lands on another color, they lose their money.\n",
    "* (a) Suppose you play roulette and bet \\$3 on a single round. What is the expected value and standard deviation of your total winnings?\n",
    "* (b) Suppose you bet \\$1 in three different rounds. What is the expected value and standard deviation of your total winnings?\n",
    "* (c) How do your answers to parts (a) and (b) compare? What does this say about the riskiness of the two games?"
   ]
  },
  {
   "cell_type": "markdown",
   "metadata": {},
   "source": [
    "**(A)**\n",
    "\n",
    "First, let's build a probability model for a 3 dollar bet on a particular color (let's choose red).\n",
    "\n",
    "Probability Model\n",
    "\n",
    "___\n",
    "|For Each Outcome Of The Game$$(i)$$|Red Slot (Selected Color)|Black Slot|Green Slot|Total|\n",
    "|:---|---:|---:|---:|---:|\n",
    "|Prize$$x_i$$|\\$6|0|0||\n",
    "|Probability$$P(X=x_i)$$|18/37|18/37|1/37||\n",
    "|Expected Value $${x_i P(X=x_i)}$$|6\\*18/37|0\\*18/37|0\\*1/37|\\$2.92|\n",
    "|$${(x_i-\\mu)^2 P(X=x_i)}$$|4.6185|4.1449|0.2302|8.9934|\n",
    "___\n",
    "\n",
    "Average Expected Value E(X) or $\\mu=E(X)=\\sum_{i=1}^{k}{x_i P(X=x_i)}$ = \\$2.92\n",
    "\n",
    "Variance Var(X) or $\\sigma^2= \\sum_{i=1}^{k}{(x_i-\\mu)^2 P(X=x_i)}$ = 8.99"
   ]
  },
  {
   "cell_type": "code",
   "execution_count": 111,
   "metadata": {},
   "outputs": [
    {
     "name": "stdout",
     "output_type": "stream",
     "text": [
      "Average Expected Value: 2.9189189189189193\n",
      "(X[i] - m)**2*P[i]: [ 4.61824571  4.14490751  0.23027264]\n",
      "Variance:  8.99342585829\n",
      "STD: 2.99890410955\n"
     ]
    }
   ],
   "source": [
    "# Calculations\n",
    "P = [18.0/37, 18.0/37, 1.0/37]\n",
    "X = [6.0, 0.0, 0.0]\n",
    "\n",
    "m = 0\n",
    "for i in range(len(X)):\n",
    "    m = m + X[i]*P[i];\n",
    "print('Average Expected Value:',m)\n",
    "\n",
    "V = np.array([0.0,0.0,0.0])\n",
    "for i in range(len(X)):\n",
    "    V[i] = (X[i] - m)**2*P[i];  \n",
    "print('(X[i] - m)**2*P[i]:', V)\n",
    "print('Variance: ', V.sum())\n",
    "print('STD:', V.sum()**(1/2.0))"
   ]
  },
  {
   "cell_type": "markdown",
   "metadata": {},
   "source": [
    "**(B)**\n",
    "\n",
    "First, let's build a probability model for a 1 dollar bet on a particular color (let's choose red)."
   ]
  },
  {
   "cell_type": "code",
   "execution_count": 112,
   "metadata": {},
   "outputs": [
    {
     "name": "stdout",
     "output_type": "stream",
     "text": [
      "Average Expected Value: 0.972972972972973\n",
      "(X[i] - m)**2*P[i]: [ 0.51313841  0.46054528  0.02558585]\n",
      "Variance:  0.99926953981\n",
      "STD: 0.999634703184\n"
     ]
    }
   ],
   "source": [
    "# Calculations\n",
    "P = [18.0/37, 18.0/37, 1.0/37]\n",
    "X = [2.0, 0.0, 0.0]\n",
    "\n",
    "m = 0\n",
    "for i in range(len(X)):\n",
    "    m = m + X[i]*P[i];\n",
    "print('Average Expected Value:',m)\n",
    "\n",
    "V = np.array([0.0,0.0,0.0])\n",
    "for i in range(len(X)):\n",
    "    V[i] = (X[i] - m)**2*P[i];\n",
    "print('(X[i] - m)**2*P[i]:', V)\n",
    "print('Variance: ', V.sum())\n",
    "print('STD:', V.sum()**(1/2.0))"
   ]
  },
  {
   "cell_type": "markdown",
   "metadata": {},
   "source": [
    "We can then calculate the expected value and variance as a linear combination of three of the above games."
   ]
  },
  {
   "cell_type": "code",
   "execution_count": 113,
   "metadata": {},
   "outputs": [
    {
     "name": "stdout",
     "output_type": "stream",
     "text": [
      "Average Expected Value: 2.9189189189189193\n",
      "Variance:  2.99780861943\n",
      "STD: 1.73141809492\n"
     ]
    }
   ],
   "source": [
    "avg_expected_value = 1.0*m + 1.0*m + 1.0*m\n",
    "print('Average Expected Value:', avg_expected_value)\n",
    "total_variance = 1.0*V.sum() + 1.0*V.sum() + 1.0*V.sum() \n",
    "print('Variance: ', total_variance)\n",
    "print('STD:', total_variance**(1/2.0))"
   ]
  },
  {
   "cell_type": "markdown",
   "metadata": {},
   "source": [
    "**(C)**\n",
    "We see that in both scenarios the expected value is identical and less then the money it takes to play the game. However, in the second scenario, we see that the STD is smaller. This means that in the second scenario our distribution of outcomes is relatively tighter around the expected value making it a less riskey game (although in both scenarios we expect to leave with less money then we started with)."
   ]
  },
  {
   "cell_type": "markdown",
   "metadata": {},
   "source": [
    "# Challenge yourself\n",
    "• Problem description: Suppose you're on a game show and you're given the choice of three doors. Behind one door is a car; behind the others, goats. The car and the goats were placed randomly behind the doors before the show. The rules are: After you have chosen a door, the door remains closed for the time being. The game show host, Monty Hall, who knows what is behind the doors, now has to open one of the two remaining doors, and the door he opens must have a goat behind it. If both remaining doors have goats behind them, he chooses one randomly. After Monty opens a door with a goat, he will ask you to decide whether you want to stay with your first choice or to switch to the last remaining door. Imagine that you chose Door 1 and the host opens Door 3, which has a goat. He then asks you \"Do you want to switch to Door Number 2?\" Is it to your advantage to change your choice? Note that the player may initially choose any of the three doors (not just Door 1), that the host opens a different door revealing a goat (not necessarily Door 3), and that he gives the player a second choice between the two remaining unopened doors.\n",
    "\n",
    "• Write Python code to solve the Monty Hall problem. Simulate at least a thousand games using three doors for each strategy and show the results in such a way as to make it easy to compare the effects of each strategy."
   ]
  },
  {
   "cell_type": "markdown",
   "metadata": {},
   "source": [
    "#### Tips:\n",
    "*  http://code.jasonbhill.com/python/modeling-the-monty-hall-problem-with-python/  \n",
    "However it is a bit complex\n",
    "\n",
    "\n",
    "* You can use \n",
    "A simple simulation of a participant choosing the right or wrong door\n",
    "car = random.randint(1,3)  \n",
    "choice = random.randint(1,3)  \n",
    "and then build decision trees (if statements) with counters  \n",
    "i.e. counter+=1\n",
    "\n",
    "def pick_door():  \n",
    "    return random.randint(1,3)\n",
    "\n",
    "Or more elaborated code, randomizing your vector\n",
    "\n",
    "prizes = ['Car','Goat','Goat']  \n",
    "doors = [0,1,2]  \n",
    "result = ['','']  \n",
    "\n",
    "And use  random.shuffle(prizes) to simulate iterations of the game and build your own decision tree based on the possible outcomes.\n",
    "\n",
    "first_pick = random.choice(doors)  \n",
    "if prizes[first_pick] == 'Car':"
   ]
  },
  {
   "cell_type": "code",
   "execution_count": 114,
   "metadata": {},
   "outputs": [
    {
     "data": {
      "text/plain": [
       "[1]"
      ]
     },
     "execution_count": 114,
     "metadata": {},
     "output_type": "execute_result"
    }
   ],
   "source": [
    "a = [1,2]\n",
    "a.remove(2)\n",
    "a"
   ]
  },
  {
   "cell_type": "code",
   "execution_count": 115,
   "metadata": {},
   "outputs": [
    {
     "name": "stdout",
     "output_type": "stream",
     "text": [
      "Win percentage for STAY strategy: 33.8\n",
      "Win percentage for SWITCH strategy: 67.6\n"
     ]
    }
   ],
   "source": [
    "import random\n",
    "\n",
    "def monty_problem(strategy='Stay'):\n",
    "    prizes = ['Car','Goat','Goat']\n",
    "    random.shuffle(prizes)\n",
    "\n",
    "    doors = [0,1,2]\n",
    "\n",
    "    # Picking an initial door\n",
    "    first_pick = random.choice(doors)\n",
    "    doors.remove(first_pick)\n",
    "\n",
    "    # Revealing the first Goat door in the remaining unchoosen doors\n",
    "    if prizes[doors[0]] == 'Goat':\n",
    "        doors.remove(doors[0])\n",
    "    else:\n",
    "        doors.remove(doors[1])\n",
    "\n",
    "    if strategy == 'Switch':\n",
    "        return prizes[doors[0]]\n",
    "    else:\n",
    "        return prizes[first_pick]\n",
    "\n",
    "stay_results = [monty_problem(strategy='Stay') for x in range(1000)]\n",
    "print('Win percentage for STAY strategy:', (100*stay_results.count('Car') * 1.0/ len(stay_results)))\n",
    "switch_results = [monty_problem(strategy='Switch') for x in range(1000)]\n",
    "print('Win percentage for SWITCH strategy:', (100*switch_results.count('Car') * 1.0/ len(switch_results)))"
   ]
  },
  {
   "cell_type": "markdown",
   "metadata": {},
   "source": [
    "## Markdown cheatsheet\n",
    "\n",
    "https://github.com/adam-p/markdown-here/wiki/Markdown-Cheatsheet\n",
    "\n",
    "https://help.github.com/articles/basic-writing-and-formatting-syntax/#paragraphs-and-line-breaks\n"
   ]
  },
  {
   "cell_type": "markdown",
   "metadata": {},
   "source": [
    "This line is also a separate paragraph, but...  \n",
    "This line is only separated by a single newline, so it's a separate line in the *same paragraph*.  \n",
    "Notice the two spaces"
   ]
  },
  {
   "cell_type": "code",
   "execution_count": null,
   "metadata": {
    "collapsed": true
   },
   "outputs": [],
   "source": []
  }
 ],
 "metadata": {
  "anaconda-cloud": {},
  "hide_input": false,
  "kernelspec": {
   "display_name": "Python 3",
   "language": "python",
   "name": "python3"
  },
  "language_info": {
   "codemirror_mode": {
    "name": "ipython",
    "version": 3
   },
   "file_extension": ".py",
   "mimetype": "text/x-python",
   "name": "python",
   "nbconvert_exporter": "python",
   "pygments_lexer": "ipython3",
   "version": "3.7.2"
  }
 },
 "nbformat": 4,
 "nbformat_minor": 2
}
