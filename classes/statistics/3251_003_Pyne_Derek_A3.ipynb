{
 "cells": [
  {
   "cell_type": "markdown",
   "metadata": {},
   "source": [
    "# Assignment 3: Derek Pyne"
   ]
  },
  {
   "cell_type": "code",
   "execution_count": 1,
   "metadata": {},
   "outputs": [],
   "source": [
    "import pandas as pd\n",
    "import numpy as np\n",
    "import random\n",
    "import scipy.stats as stats"
   ]
  },
  {
   "cell_type": "markdown",
   "metadata": {},
   "source": [
    "## Question 1:\n",
    "The Capital Asset Pricing Model (CAPM) is a financial model that assumes returns on a portfolio are normally distributed. Suppose a portfolio has an average annual return of 14.7% (i.e. an average gain of 14.7%) with a standard deviation of 33%. A return of 0% means the value of the portfolio doesn’t change, a negative return means that the portfolio loses money, and a positive return means that the portfolio gains money. \n",
    "\n",
    "Using the properties of the normal distribution please calculate:\n",
    "\n",
    "1. What percent of years does this portfolio lose money, i.e. have a return less than 0%? \n",
    "2. What is the cutoff for the highest 15% of annual returns with this portfolio? \n",
    "3. Calculate A and B by using simulation techniques.\n"
   ]
  },
  {
   "cell_type": "markdown",
   "metadata": {},
   "source": [
    "### What percent of years does this portfolio lose money, i.e. have a return less than 0%?\n",
    "We can model the normal distribution and calculate the cumulative probability up to a 0% return."
   ]
  },
  {
   "cell_type": "code",
   "execution_count": 2,
   "metadata": {},
   "outputs": [
    {
     "name": "stdout",
     "output_type": "stream",
     "text": [
      "Probability of negative return: 32.8%\n"
     ]
    }
   ],
   "source": [
    "CAPM_distribution = stats.norm(14.7, 33)\n",
    "print(\"Probability of negative return: %.1f%%\" % (CAPM_distribution.cdf(0)*100))"
   ]
  },
  {
   "cell_type": "markdown",
   "metadata": {},
   "source": [
    "### What is the cutoff for the highest 15% of annual returns with this portfolio?\n",
    "We can use the complement of percent-point function here to calculate the probability of a portfolio being in the highest 15% of returns."
   ]
  },
  {
   "cell_type": "code",
   "execution_count": 3,
   "metadata": {},
   "outputs": [
    {
     "name": "stdout",
     "output_type": "stream",
     "text": [
      "Cut-off for top 15%: 48.9%\n"
     ]
    }
   ],
   "source": [
    "print(\"Cut-off for top 15%%: %.1f%%\" % CAPM_distribution.ppf(.85))"
   ]
  },
  {
   "cell_type": "markdown",
   "metadata": {},
   "source": [
    "### (Simulation) What percent of years does this portfolio lose money, i.e. have a return less than 0%?"
   ]
  },
  {
   "cell_type": "code",
   "execution_count": 4,
   "metadata": {},
   "outputs": [
    {
     "name": "stdout",
     "output_type": "stream",
     "text": [
      "Probability of negative return: 33.0%\n"
     ]
    }
   ],
   "source": [
    "ann_returns = np.array([CAPM_distribution.rvs() for _ in range(10000)])\n",
    "print(\"Probability of negative return: %.1f%%\" % (sum(ann_returns < 0) / len(ann_returns)* 100))"
   ]
  },
  {
   "cell_type": "markdown",
   "metadata": {},
   "source": [
    "### (Simulation) What is the cutoff for the highest 15% of annual returns with this portfolio?"
   ]
  },
  {
   "cell_type": "code",
   "execution_count": 5,
   "metadata": {},
   "outputs": [
    {
     "name": "stdout",
     "output_type": "stream",
     "text": [
      "Cut-off for top 15%: 49.1%\n"
     ]
    }
   ],
   "source": [
    "ann_returns.sort()\n",
    "print(\"Cut-off for top 15%%: %.1f%%\" % ann_returns[int(len(ann_returns) * 0.85)])"
   ]
  },
  {
   "cell_type": "markdown",
   "metadata": {},
   "source": [
    "## Question 2\n",
    "Game of dreidel. A dreidel is a four-sided spinning top with the Hebrew letters nun, gimel, hei, and shin, one on each side. Each side is equally likely to come up in a single spin of the dreidel. Suppose you spin a dreidel three times. Calculate the probability of getting:"
   ]
  },
  {
   "cell_type": "markdown",
   "metadata": {},
   "source": [
    "### At least one nun?"
   ]
  },
  {
   "cell_type": "code",
   "execution_count": 6,
   "metadata": {
    "collapsed": true
   },
   "outputs": [],
   "source": [
    "dreidel_distribution = stats.binom(3,.25)"
   ]
  },
  {
   "cell_type": "code",
   "execution_count": 7,
   "metadata": {},
   "outputs": [
    {
     "name": "stdout",
     "output_type": "stream",
     "text": [
      "Probability of at least one nun: 57.8%\n"
     ]
    }
   ],
   "source": [
    "print(\"Probability of at least one nun: %.1f%%\" % ((1 - dreidel_distribution.pmf(0))*100))"
   ]
  },
  {
   "cell_type": "code",
   "execution_count": 8,
   "metadata": {},
   "outputs": [
    {
     "name": "stdout",
     "output_type": "stream",
     "text": [
      "Simulated probability of at least one nun: 58.3%\n"
     ]
    }
   ],
   "source": [
    "def spinAtLeastOneSuccess():\n",
    "    spins = np.array([random.randint(0,3) for _ in range(3)])\n",
    "    return any(spins == 0)\n",
    "spins = np.array([spinAtLeastOneSuccess() for _ in range(10000)])\n",
    "print(\"Simulated probability of at least one nun: %.1f%%\" % (sum(spins)/len(spins)*100))"
   ]
  },
  {
   "cell_type": "markdown",
   "metadata": {},
   "source": [
    "### Exactly two nuns?"
   ]
  },
  {
   "cell_type": "code",
   "execution_count": 9,
   "metadata": {},
   "outputs": [
    {
     "name": "stdout",
     "output_type": "stream",
     "text": [
      "Probability of exactly two nuns: 14.1%\n"
     ]
    }
   ],
   "source": [
    "print(\"Probability of exactly two nuns: %.1f%%\" % (dreidel_distribution.pmf(2)*100))"
   ]
  },
  {
   "cell_type": "code",
   "execution_count": 10,
   "metadata": {},
   "outputs": [
    {
     "name": "stdout",
     "output_type": "stream",
     "text": [
      "Simulated probability of exactly two nuns: 13.8%\n"
     ]
    }
   ],
   "source": [
    "def spinExactlyTwoSuccess():\n",
    "    spins = np.array([random.randint(0,3) for _ in range(3)])\n",
    "    return sum(spins == 0) == 2\n",
    "spins = np.array([spinExactlyTwoSuccess() for _ in range(10000)])\n",
    "print(\"Simulated probability of exactly two nuns: %.1f%%\" % (sum(spins)/len(spins)*100))"
   ]
  },
  {
   "cell_type": "markdown",
   "metadata": {},
   "source": [
    "### Exactly 1 hei?"
   ]
  },
  {
   "cell_type": "code",
   "execution_count": 11,
   "metadata": {},
   "outputs": [
    {
     "name": "stdout",
     "output_type": "stream",
     "text": [
      "Probability of exactly 1 hei: 42.2%\n"
     ]
    }
   ],
   "source": [
    "print(\"Probability of exactly 1 hei: %.1f%%\" % (dreidel_distribution.pmf(1)*100))"
   ]
  },
  {
   "cell_type": "code",
   "execution_count": 12,
   "metadata": {},
   "outputs": [
    {
     "name": "stdout",
     "output_type": "stream",
     "text": [
      "Simulated probability of exactly 1 hei: 41.8%\n"
     ]
    }
   ],
   "source": [
    "def spinExactlyOneSuccess():\n",
    "    spins = np.array([random.randint(0,3) for _ in range(3)])\n",
    "    return sum(spins == 0) == 1\n",
    "spins = np.array([spinExactlyOneSuccess() for _ in range(10000)])\n",
    "print(\"Simulated probability of exactly 1 hei: %.1f%%\" % (sum(spins)/len(spins)*100))"
   ]
  },
  {
   "cell_type": "markdown",
   "metadata": {},
   "source": [
    "### At most 2 gimels?"
   ]
  },
  {
   "cell_type": "code",
   "execution_count": 13,
   "metadata": {},
   "outputs": [
    {
     "name": "stdout",
     "output_type": "stream",
     "text": [
      "Probability of at most 2 gimels: 98.4%\n"
     ]
    }
   ],
   "source": [
    "print(\"Probability of at most 2 gimels: %.1f%%\" % (dreidel_distribution.cdf(2)*100))"
   ]
  },
  {
   "cell_type": "code",
   "execution_count": 15,
   "metadata": {},
   "outputs": [
    {
     "name": "stdout",
     "output_type": "stream",
     "text": [
      "Simulated probability of at most 2 gimels: 98.6%\n"
     ]
    }
   ],
   "source": [
    "def spinAtMostTwoSuccess():\n",
    "    spins = np.array([random.randint(0,3) for _ in range(3)])\n",
    "    return sum(spins == 0) < 3\n",
    "spins = np.array([spinAtMostTwoSuccess() for _ in range(10000)])\n",
    "print(\"Simulated probability of at most 2 gimels: %.1f%%\" % (sum(spins)/len(spins)*100))"
   ]
  }
 ],
 "metadata": {
  "hide_input": false,
  "kernelspec": {
   "display_name": "Python [conda env:helpful_analytics]",
   "language": "python",
   "name": "conda-env-helpful_analytics-py"
  },
  "language_info": {
   "codemirror_mode": {
    "name": "ipython",
    "version": 3
   },
   "file_extension": ".py",
   "mimetype": "text/x-python",
   "name": "python",
   "nbconvert_exporter": "python",
   "pygments_lexer": "ipython3",
   "version": "3.6.1"
  }
 },
 "nbformat": 4,
 "nbformat_minor": 2
}
