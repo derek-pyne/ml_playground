{
 "cells": [
  {
   "cell_type": "code",
   "execution_count": 1,
   "metadata": {
    "collapsed": false
   },
   "outputs": [],
   "source": [
    "import numpy as np\n",
    "import pandas as pd\n",
    "from pandas import Series, DataFrame\n",
    "import matplotlib.pylab as plt\n",
    "import seaborn as sns\n",
    "import os\n",
    "%matplotlib inline"
   ]
  },
  {
   "cell_type": "markdown",
   "metadata": {},
   "source": [
    "# Facebook Check Ins\n",
    "On Facebook, a user can check into a nearby location by selecting from a list of close locations from their GPS location, or by manually selecting a location. This posts to their social group that they are currently at the selected location and highlights the business or location they checked in to. The goal of this challenge, provided by Facebook, is to predict the check in location given only the location (with accuracy), and time. A large dataset has been provided with artifical data.\n",
    "\n",
    "First, we will read in the data and do some preliminary exploration."
   ]
  },
  {
   "cell_type": "code",
   "execution_count": 2,
   "metadata": {
    "collapsed": false
   },
   "outputs": [],
   "source": [
    "df = pd.read_csv('Data/train.csv', index_col='row_id')#, nrows=3000000)\n",
    "final = pd.read_csv('Data/test.csv', index_col='row_id')"
   ]
  },
  {
   "cell_type": "markdown",
   "metadata": {},
   "source": [
    "We can see that about 2.9 million data points have been provided. X and Y coordinates fall from 0 to 10 (were stated to have been given in kms) and accuracy falls from 1 to about 1000, although no further description was given. Time ranges from 1 to about 786 000 and no information about units was given. We will have to figure this out later."
   ]
  },
  {
   "cell_type": "code",
   "execution_count": null,
   "metadata": {
    "collapsed": false
   },
   "outputs": [],
   "source": [
    "df.describe()"
   ]
  },
  {
   "cell_type": "markdown",
   "metadata": {},
   "source": [
    "## Location and Places\n",
    "There does not appear to be any trend in the location data on the large scale."
   ]
  },
  {
   "cell_type": "code",
   "execution_count": null,
   "metadata": {
    "collapsed": false
   },
   "outputs": [],
   "source": [
    "sns.jointplot(df['x'], df['y'], kind='hex')"
   ]
  },
  {
   "cell_type": "markdown",
   "metadata": {},
   "source": [
    "We can then look at the distribution in check-ins across places. "
   ]
  },
  {
   "cell_type": "code",
   "execution_count": 3,
   "metadata": {
    "collapsed": false
   },
   "outputs": [
    {
     "name": "stdout",
     "output_type": "stream",
     "text": [
      "Total number of places: 108390\n"
     ]
    },
    {
     "data": {
      "text/plain": [
       "<matplotlib.axes._subplots.AxesSubplot at 0x955777f0>"
      ]
     },
     "execution_count": 3,
     "metadata": {},
     "output_type": "execute_result"
    },
    {
     "data": {
      "image/png": "[encoded data removed]",
      "text/plain": [
       "<matplotlib.figure.Figure at 0xaaf1f28>"
      ]
     },
     "metadata": {},
     "output_type": "display_data"
    }
   ],
   "source": [
    "place_grouped = df.groupby('place_id')\n",
    "print('Total number of places: %s' % len(place_grouped))\n",
    "place_grouped.size().hist(bins=100, figsize=(16,8))"
   ]
  },
  {
   "cell_type": "markdown",
   "metadata": {},
   "source": [
    "Let's look specifically at the check in locations for the top places."
   ]
  },
  {
   "cell_type": "code",
   "execution_count": 4,
   "metadata": {
    "collapsed": false
   },
   "outputs": [],
   "source": [
    "highest_place_ids = place_grouped.size().sort_values(ascending=False)[:20].index\n",
    "highest_places_df = df[df['place_id'].isin(highest_place_ids)]"
   ]
  },
  {
   "cell_type": "code",
   "execution_count": null,
   "metadata": {
    "collapsed": false
   },
   "outputs": [],
   "source": [
    "fig, ax = plt.subplots(1,1, figsize=(8,8))\n",
    "for place_id, group in highest_places_df.groupby('place_id'):\n",
    "    ax.plot(group['x'], group['y'], 'o')\n",
    "ax.set_ylim([0,10])\n",
    "ax.set_xlim([0, 10])\n",
    "plt.show()"
   ]
  },
  {
   "cell_type": "markdown",
   "metadata": {},
   "source": [
    "It seems that locations are very tightly grouped along the y-axis but very wide along the x-axis. Perhaps this coresponds to streets in this fictional city. Although we would expect to see vertical streets as well. We will need to keep this in mind when building a model as we will need to scale these axis accordingly.\n",
    "\n",
    "To check if this observation holds true for all of our place ids, we can check the distribution of the standard deviation of each place id along each axis."
   ]
  },
  {
   "cell_type": "code",
   "execution_count": null,
   "metadata": {
    "collapsed": false
   },
   "outputs": [],
   "source": [
    "place_grouped[['x','y']].std().hist(bins=100, sharex=True)"
   ]
  },
  {
   "cell_type": "markdown",
   "metadata": {},
   "source": [
    "## Accuracy\n",
    "Descriptions of the data fields were intentionally left vague so we are challenged to interpret them ourselves. Let's assume that accuracy is referencing the location information. GPS accuracy is typically given as a confidence interval. For instance, 5 would mean that the location is accurate to within a 5m radius with a high degree of confidence. If this is the case we would expect most points to have a small accuracy number with a long tail where users had a weaker connection to the GPS satelittes, the weather was poor, their device fell back to using wifi based location or other less then ideal conditions."
   ]
  },
  {
   "cell_type": "code",
   "execution_count": null,
   "metadata": {
    "collapsed": false
   },
   "outputs": [],
   "source": [
    "df['accuracy'].hist(bins=500, figsize=(16,8))"
   ]
  },
  {
   "cell_type": "markdown",
   "metadata": {},
   "source": [
    "We can see a pretty interesting distribution in accuracy with three distinct peaks. This may correspond to discrete modes on the devices such as high/low precision GPS or wifi-only. Unfortunately we do not have user_ids for each check-in point otherwise we could check if the accuracy switches between mode for a given user. If the accuracy was constant for a given user we may have been able to infer the quality of the device they were using which may have been a usefull feature.\n",
    "\n",
    "Let's check if there is any dependence between the variance in the x and y coordinates for each group and the median accuracy. We had assumed that accuracy referred to a radial distance but it might refer to a single axis.\n",
    "\n",
    "We can see below that for each place id, there is no correlation between the distribution in either axis and the median accuracy."
   ]
  },
  {
   "cell_type": "code",
   "execution_count": null,
   "metadata": {
    "collapsed": false
   },
   "outputs": [],
   "source": [
    "fig, axs = plt.subplots(1, 2, figsize=(16, 8))\n",
    "for coord, ax in zip(['x', 'y'], axs):\n",
    "    sns.regplot(x=place_grouped[coord].std(), y=place_grouped['accuracy'].median(), \n",
    "                truncate=True, ax=ax, line_kws={'color': 'red', 'linestyle': '--'})\n",
    "    ax.set_ylim([0, 700])\n",
    "axs[0].set_xlim([0, 5]); axs[1].set_xlim([0, 0.2])\n",
    "fig.suptitle('Median accuracy vs standard deviation in x and y, for each place id')"
   ]
  },
  {
   "cell_type": "markdown",
   "metadata": {},
   "source": [
    "Let's see if there are overall any low accuracy zones."
   ]
  },
  {
   "cell_type": "code",
   "execution_count": null,
   "metadata": {
    "collapsed": false
   },
   "outputs": [],
   "source": [
    "# Computationally intensive if using entire dataset\n",
    "# df.plot.hexbin('x', 'y', C='accuracy', reduce_C_function=np.median, gridsize=20)"
   ]
  },
  {
   "cell_type": "markdown",
   "metadata": {},
   "source": [
    "It seems that accuracy is a measure of the error, meaning that smaller values correspond to a more accurate reading."
   ]
  },
  {
   "cell_type": "markdown",
   "metadata": {},
   "source": [
    "## Accuracy and distance from place centroids\n",
    "We will use the centroid of all check ins locations at a given place id as an approximate location of the actual place. We would then expect to see a trend with precision decreasing with distance away from the centroid. We will do this calculation for a subset of places as it is computationally expensive."
   ]
  },
  {
   "cell_type": "code",
   "execution_count": null,
   "metadata": {
    "collapsed": false
   },
   "outputs": [],
   "source": [
    "centroid_df = highest_places_df.groupby('place_id').apply(lambda df: Series({'x_mean': df['x'].mean(), \n",
    "                                                                             'y_mean': df['y'].mean()}))"
   ]
  },
  {
   "cell_type": "code",
   "execution_count": null,
   "metadata": {
    "collapsed": false,
    "scrolled": true
   },
   "outputs": [],
   "source": [
    "def dist_from_centroid(df):\n",
    "    x = (df['x'] - centroid_df.ix[df['place_id']]['x_mean'])**2\n",
    "    y = (df['y'] - centroid_df.ix[df['place_id']]['y_mean'])**2\n",
    "    dist = np.sqrt(x+y)\n",
    "    return dist\n",
    "DataFrame({'Distance from Centroid': highest_places_df.apply(dist_from_centroid, axis=1),\n",
    "           'Accuracy': highest_places_df['accuracy']}).plot(kind='scatter', x='Distance from Centroid', y='Accuracy')\n",
    "plt.xlim([0, 4])\n",
    "plt.ylim([0, 900])"
   ]
  },
  {
   "cell_type": "markdown",
   "metadata": {},
   "source": [
    "We see no correlation here suggesting that larger check in distances from the actual location (assumed to be the centroid) are caused by some other activity of the user and not the actual accuracy of the location measurement."
   ]
  },
  {
   "cell_type": "markdown",
   "metadata": {},
   "source": [
    "## Unlocking time\n",
    "Time is given as an int from 0 to about 800 000. We are left to figure out the units on our own. Let's start by looking at the check in quantity as a function of time."
   ]
  },
  {
   "cell_type": "code",
   "execution_count": null,
   "metadata": {
    "collapsed": true
   },
   "outputs": [],
   "source": [
    "usage_count, usage_time = np.histogram(df['time'], bins=2500)\n",
    "usage_time = usage_time[:-1]\n",
    "fs = 1./(usage_time[1] - usage_time[0])"
   ]
  },
  {
   "cell_type": "code",
   "execution_count": null,
   "metadata": {
    "collapsed": false
   },
   "outputs": [],
   "source": [
    "plt.subplots(1, 1, figsize=(16, 6))\n",
    "plt.plot(usage_time, usage_count)"
   ]
  },
  {
   "cell_type": "markdown",
   "metadata": {},
   "source": [
    "We can see a high frequency cycle on top of a lower frequency trend. We can do an FFT on this data to pull out the higher frequency components. These most likely correspond to the day and week cycles."
   ]
  },
  {
   "cell_type": "code",
   "execution_count": null,
   "metadata": {
    "collapsed": false
   },
   "outputs": [],
   "source": [
    "from scipy import signal\n",
    "f, Pxx_den = signal.welch(usage_count - np.mean(usage_count), fs, nperseg=256)\n",
    "plt.figure(figsize=(16,6))\n",
    "plt.plot(f, np.log10(Pxx_den))"
   ]
  },
  {
   "cell_type": "code",
   "execution_count": null,
   "metadata": {
    "collapsed": false
   },
   "outputs": [],
   "source": [
    "psd = Series(Pxx_den)\n",
    "f_day = f[psd[f > 0.00005].idxmax()]\n",
    "f_week = f[psd[f > 0.00018].idxmax()]"
   ]
  },
  {
   "cell_type": "code",
   "execution_count": null,
   "metadata": {
    "collapsed": false
   },
   "outputs": [],
   "source": [
    "print(1/f_day)\n",
    "print(1/f_week)"
   ]
  },
  {
   "cell_type": "markdown",
   "metadata": {},
   "source": [
    "This gives us a week of 10063 units. This is conveniently close to the number of minutes in a week which is 10080. We can conclude that time is given in units of minutes."
   ]
  },
  {
   "cell_type": "markdown",
   "metadata": {},
   "source": [
    "We can now make a new cyclic time feature that is the fractional completion of each current week and day. We then remove the mean and give it a range of 2 for feature scaling later on."
   ]
  },
  {
   "cell_type": "code",
   "execution_count": null,
   "metadata": {
    "collapsed": false
   },
   "outputs": [],
   "source": [
    "# df['week'] = df['time'] % 10080. / 10080 * 2 - 1.\n",
    "# df['day'] = df['time'] % 1440. / 1440. * 2 - 1\n",
    "df['week'] = (df['time'] // (60*24)) % 7 / 7 - 0.5\n",
    "df['day'] = (df['time'] // 60) % 24 / 24 - 0.5"
   ]
  },
  {
   "cell_type": "markdown",
   "metadata": {},
   "source": [
    "We can check that our data looks cyclic with these day and week lengths."
   ]
  },
  {
   "cell_type": "code",
   "execution_count": null,
   "metadata": {
    "collapsed": false
   },
   "outputs": [],
   "source": [
    "fig, axs = plt.subplots(1, 2, figsize=(16, 6))\n",
    "for cycle, ax in zip(['day', 'week'], axs):\n",
    "    df.hist(column=cycle, figsize=(18,6), ax=ax, bins=50)\n",
    "# plt.ylim([500000,650000])"
   ]
  },
  {
   "cell_type": "markdown",
   "metadata": {},
   "source": [
    "Let's look at the time distribution for some of our top places to see how unique these locations are."
   ]
  },
  {
   "cell_type": "code",
   "execution_count": null,
   "metadata": {
    "collapsed": false
   },
   "outputs": [],
   "source": [
    "fig, axs  = plt.subplots(2, 4, figsize=(16, 8))\n",
    "for i, (ax_day, ax_week) in enumerate(zip(axs[0], axs[1])):\n",
    "    place = highest_place_ids[i]\n",
    "    df[df['place_id'] == place]['day'].hist(bins=24, ax=ax_day)\n",
    "    ax_day.set_title(place)\n",
    "    ax_day.set_xlabel('Day')\n",
    "#     ax_day.set_xlim([0, 1])\n",
    "    df[df['place_id'] == place]['week'].hist(bins=7, ax=ax_week)\n",
    "    ax_week.set_xlabel('Week')\n",
    "#     ax_week.set_xlim([0, 1])"
   ]
  },
  {
   "cell_type": "markdown",
   "metadata": {},
   "source": [
    "# Long term trends"
   ]
  },
  {
   "cell_type": "code",
   "execution_count": null,
   "metadata": {
    "collapsed": false
   },
   "outputs": [],
   "source": [
    "df['time'].hist(bins=200)"
   ]
  },
  {
   "cell_type": "code",
   "execution_count": null,
   "metadata": {
    "collapsed": false
   },
   "outputs": [],
   "source": [
    "t_min = 0\n",
    "t_max = df['time'].max()"
   ]
  },
  {
   "cell_type": "code",
   "execution_count": null,
   "metadata": {
    "collapsed": false
   },
   "outputs": [],
   "source": [
    "df[df['place_id'] == highest_place_ids[4]]['time'].hist(bins=50)"
   ]
  },
  {
   "cell_type": "markdown",
   "metadata": {},
   "source": [
    "# Standardizing the data\n",
    "We will be using variations of knn so it is very important that we normalize our data set. We already scaled our day and week measures earlier. To scale x and y coordinates, we will calculate the weighted average of the standard deviation for each place group. We will then transform each axis by this average. This is particularily important since we know that the location data has much greater variance along the x coordinate.\n",
    "\n",
    "When standardizing, we will over"
   ]
  },
  {
   "cell_type": "code",
   "execution_count": null,
   "metadata": {
    "collapsed": false
   },
   "outputs": [],
   "source": [
    "x_std_mean = place_grouped['x'].std().mean()\n",
    "y_std_mean = place_grouped['y'].std().mean()\n",
    "\n",
    "n_total = len(df)\n",
    "# place_grouped.apply(lambda df: df['x'].std() * len(df) / float(n_total)).sum()\n",
    "print(x_std_mean, y_std_mean)\n",
    "df['x']  = df['x'] / x_std_mean\n",
    "df['y']  = df['y'] / y_std_mean"
   ]
  },
  {
   "cell_type": "code",
   "execution_count": null,
   "metadata": {
    "collapsed": false
   },
   "outputs": [],
   "source": [
    "from sklearn.cross_validation import train_test_split\n",
    "ml_cols = ['x', 'y', 'day', 'week']\n",
    "X = df[ml_cols]\n",
    "y = df['place_id']\n",
    "# X_train, X_test, y_train, y_test = train_test_split(X, y, test_size=0.33, random_state=42)\n",
    "train_mask = (df['time'] > 750000) & (df['time'] < 780000)\n",
    "test_mask = df['time'] >= 780000\n",
    "X_train = X[train_mask]\n",
    "X_test = X[test_mask]\n",
    "y_train = y[train_mask]\n",
    "y_test = y[test_mask]"
   ]
  },
  {
   "cell_type": "code",
   "execution_count": null,
   "metadata": {
    "collapsed": false
   },
   "outputs": [],
   "source": [
    "len(X_test)"
   ]
  },
  {
   "cell_type": "markdown",
   "metadata": {},
   "source": [
    "# Top places kNN model\n",
    "Since we have such a large number of labels (places), techniques such a logistic regression that typically use a one-vs-all technique for multiclass problems, will have to train a model for all ~100 000 places. Since the dataset is also so large, we will try a nearest neighbors model to start. Since the computational requirements of knn also grow linearly with the dataset size, we will use a dataset with only the top 10000 locations."
   ]
  },
  {
   "cell_type": "code",
   "execution_count": null,
   "metadata": {
    "collapsed": false
   },
   "outputs": [],
   "source": [
    "n_top_places = 100\n",
    "place_grouped.size().sort_values(ascending=False)[:n_top_places].sum()"
   ]
  },
  {
   "cell_type": "code",
   "execution_count": null,
   "metadata": {
    "collapsed": false
   },
   "outputs": [],
   "source": [
    "top_places = place_grouped.size().sort_values(ascending=False)[:n_top_places].index"
   ]
  },
  {
   "cell_type": "code",
   "execution_count": null,
   "metadata": {
    "collapsed": true
   },
   "outputs": [],
   "source": [
    "X_train_top = X_train.ix[y_train.isin(top_places)]\n",
    "y_train_top = y_train.ix[y_train.isin(top_places)]"
   ]
  },
  {
   "cell_type": "code",
   "execution_count": null,
   "metadata": {
    "collapsed": false
   },
   "outputs": [],
   "source": [
    "from sklearn.neighbors import KNeighborsClassifier\n",
    "knn = KNeighborsClassifier(n_neighbors=10, metric='manhattan').fit(X_train_top, y_train_top)"
   ]
  },
  {
   "cell_type": "code",
   "execution_count": null,
   "metadata": {
    "collapsed": true
   },
   "outputs": [],
   "source": [
    "pind = knn.predict_proba(X_test.iloc[0:5, :]).argsort(axis=1)\n",
    "pind = np.fliplr(pind)\n",
    "predictions = knn.classes_[pind[:, 0:3]]"
   ]
  },
  {
   "cell_type": "code",
   "execution_count": null,
   "metadata": {
    "collapsed": false
   },
   "outputs": [],
   "source": [
    "from sklearn.metrics import accuracy_score\n",
    "accuracy_score(y_test, knn.predict(X_test))"
   ]
  },
  {
   "cell_type": "markdown",
   "metadata": {},
   "source": [
    "# Training Grid KNN"
   ]
  },
  {
   "cell_type": "code",
   "execution_count": null,
   "metadata": {
    "collapsed": true
   },
   "outputs": [],
   "source": [
    "class gridKNN(object):\n",
    "    '''Grid KNN Classifier\n",
    "\n",
    "    Parameters\n",
    "    ----------\n",
    "    feature_res : 1d-array\n",
    "        Resolution for splitting each feature\n",
    "    n_pred: int (default: 3)\n",
    "        Number of predictions returned per \n",
    "        data point\n",
    "\n",
    "    Attributes\n",
    "    ----------\n",
    "    w_ : 1d-array\n",
    "        Weights after fitting\n",
    "    errors_ : list\n",
    "        Number of misclassifications in every epoch.\n",
    "    '''\n",
    "    def __init__(self, feature_res, n_pred=3):\n",
    "        self.feature_res = feature_res\n",
    "        self.n_pred=n_pred\n",
    "\n",
    "    def fit(self, X, y):\n",
    "        '''Fit training data\n",
    "\n",
    "        Parameters\n",
    "        ----------\n",
    "        X : {array-like}, shape = [n_samples, n_features]\n",
    "            Training vectors, where n_samples\n",
    "            is the number of samples and\n",
    "            n_features is the number of features.\n",
    "        y : array-like, shape = [n_samples]\n",
    "            Target values.\n",
    "\n",
    "        Returns\n",
    "        -------\n",
    "        self : object\n",
    "\n",
    "        '''\n",
    "        pass\n",
    "    \n",
    "    def _generateGrid(self):\n",
    "        pass\n",
    "\n",
    "    def predict(self, X):\n",
    "        pass"
   ]
  },
  {
   "cell_type": "markdown",
   "metadata": {
    "collapsed": true
   },
   "source": [
    "# Long time knn"
   ]
  },
  {
   "cell_type": "code",
   "execution_count": null,
   "metadata": {
    "collapsed": true
   },
   "outputs": [],
   "source": [
    "import time"
   ]
  },
  {
   "cell_type": "code",
   "execution_count": null,
   "metadata": {
    "collapsed": false
   },
   "outputs": [],
   "source": [
    "from sklearn.neighbors import KNeighborsClassifier\n",
    "knn = KNeighborsClassifier(n_neighbors=10, n_jobs=-1, metric='manhattan').fit(X_train, y_train)"
   ]
  },
  {
   "cell_type": "code",
   "execution_count": null,
   "metadata": {
    "collapsed": false
   },
   "outputs": [],
   "source": [
    "X_test.iloc[0:5, :]"
   ]
  },
  {
   "cell_type": "code",
   "execution_count": null,
   "metadata": {
    "collapsed": false
   },
   "outputs": [],
   "source": [
    "t0 = time.time()\n",
    "knn.predict(X_test.iloc[0:10000, :])\n",
    "t1 = time.time()\n",
    "t1-t0"
   ]
  },
  {
   "cell_type": "code",
   "execution_count": null,
   "metadata": {
    "collapsed": false
   },
   "outputs": [],
   "source": [
    "t0 = time.time()\n",
    "pind = knn.predict_proba(X_test.iloc[0:5, :]).argsort(axis=1)\n",
    "pind = np.fliplr(pind)\n",
    "predictions = knn.classes_[pind[:, 0:3]]\n",
    "t1 = time.time()\n",
    "t1-t0"
   ]
  }
 ],
 "metadata": {
  "kernelspec": {
   "display_name": "Python 3",
   "language": "python",
   "name": "python3"
  },
  "language_info": {
   "codemirror_mode": {
    "name": "ipython",
    "version": 3
   },
   "file_extension": ".py",
   "mimetype": "text/x-python",
   "name": "python",
   "nbconvert_exporter": "python",
   "pygments_lexer": "ipython3",
   "version": "3.5.1"
  }
 },
 "nbformat": 4,
 "nbformat_minor": 0
}
